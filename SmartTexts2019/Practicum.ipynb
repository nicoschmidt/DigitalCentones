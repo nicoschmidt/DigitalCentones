{
  "nbformat": 4,
  "nbformat_minor": 0,
  "metadata": {
    "colab": {
      "name": "Practicum.ipynb",
      "version": "0.3.2",
      "provenance": [],
      "collapsed_sections": [],
      "toc_visible": true,
      "include_colab_link": true
    },
    "kernelspec": {
      "name": "python3",
      "display_name": "Python 3"
    }
  },
  "cells": [
    {
      "cell_type": "markdown",
      "metadata": {
        "id": "view-in-github",
        "colab_type": "text"
      },
      "source": [
        "<a href=\"https://colab.research.google.com/github/nicoschmidt/DigitalCentones/blob/master/SmartTexts2019/Practicum.ipynb\" target=\"_parent\"><img src=\"https://colab.research.google.com/assets/colab-badge.svg\" alt=\"Open In Colab\"/></a>"
      ]
    },
    {
      "cell_type": "markdown",
      "metadata": {
        "id": "1je_UIgTFDSg",
        "colab_type": "text"
      },
      "source": [
        "# Smart Texts 2019 Practicum May 27th:\n",
        "# Christus Patiens and the opportunities for Digital Reading\n",
        "\n",
        "Welcome to the Smart Texts practicum! Today we will investigate the possibilities of computer-aided intertextual reading.\n",
        "In this session you will get to know some techniques to handle a digital version of the Greek cento Christus Patiens from late antiquity by Gregorius Nazianzenus. You can have a look at a digital version, an edition by Johann Georg Brambs from 1885 in the Scaife Viewer: https://scaife.perseus.org/reader/urn:cts:greekLit:tlg2022.tlg003.opp-grc1:1.1-1.30/\n",
        "\n",
        "It is also available as TEI formatted xml file on GitHub (along with many other texts!) in the repository of the ***OpenGreekAndLatin*** project: https://github.com/OpenGreekAndLatin/First1KGreek/blob/master/data/tlg2022/tlg003/tlg2022.tlg003.opp-grc1.xml\n",
        "\n",
        "We will make use of this formatted text for analyzing it with our software. As you have learned in the seminar today, a Cento is a patchwork poem made of many parts, lines or single words from other (source) texts. In the case of Christus Patiens the source texts to a large part are chosen from tragedies by Euripides, such as Medea, Bacchae and others.\n",
        "\n",
        "We will use the alignment algorithm discussed during today's seminar - Smith-Waterman - to find for each line of the Christus Patiens the corresponding (matching) text in the source tragedies. For time reasons and because of limited availability of the source text as formatted xml files, we will restrict our analysis to the first 100 lines of the Christus Patiens and match them with the first 48 lines of Euripides' *Medea*.\n",
        "\n",
        "As with most algorithms, the Smith-Waterman algorithm comes with some parameters which needs to be tuned in order to produce meaningful results. In the coming exercises you will play around with those parameters to tweak the algorithm. You will compare your results to the matches found by an expert researcher in this field (Tuillier 1969).\n",
        "\n",
        "If you look for a more advanced programming exercise, you can even work on extensions of the alignment program - during this practicum or continue your work afterwards in a student project.\n"
      ]
    },
    {
      "cell_type": "markdown",
      "metadata": {
        "id": "HcdxFqc6n-H0",
        "colab_type": "text"
      },
      "source": [
        "# 1) Get to know the data\n"
      ]
    },
    {
      "cell_type": "markdown",
      "metadata": {
        "id": "RQGCaBXVdBpM",
        "colab_type": "text"
      },
      "source": [
        "\n",
        "## Prepare code\n",
        "Steps:\n",
        "- get code and data files from GitHub\n",
        "- import code and other libs"
      ]
    },
    {
      "cell_type": "code",
      "metadata": {
        "id": "lF-HX9fVi7R0",
        "colab_type": "code",
        "outputId": "f5a9678a-b63f-45c2-ad70-ce39eea055a9",
        "colab": {
          "base_uri": "https://localhost:8080/",
          "height": 125
        }
      },
      "source": [
        "!([ -d DigitalCentones ]) && rm -r DigitalCentones\n",
        "!git clone https://github.com/nicoschmidt/DigitalCentones\n",
        "\n",
        "from DigitalCentones.smith_waterman import SmithWaterman\n",
        "from DigitalCentones.alignment import *\n",
        "from IPython.display import HTML\n",
        "import numpy as np"
      ],
      "execution_count": 2,
      "outputs": [
        {
          "output_type": "stream",
          "text": [
            "Cloning into 'DigitalCentones'...\n",
            "remote: Enumerating objects: 53, done.\u001b[K\n",
            "remote: Counting objects: 100% (53/53), done.\u001b[K\n",
            "remote: Compressing objects: 100% (42/42), done.\u001b[K\n",
            "remote: Total 53 (delta 22), reused 17 (delta 5), pack-reused 0\u001b[K\n",
            "Unpacking objects: 100% (53/53), done.\n"
          ],
          "name": "stdout"
        }
      ]
    },
    {
      "cell_type": "markdown",
      "metadata": {
        "id": "1EIv-_g3HFWi",
        "colab_type": "text"
      },
      "source": [
        "## Load Christus Patiens and Medea text files\n",
        "Steps:\n",
        "- copy xml file of Christus Patiens from GitHub repository ***First1KGreek*** by the ***OpenGreekAndLatin*** project\n",
        "- parse the xml file\n",
        "- remove preface lines\n",
        "- load first 48 lines from Medea as plain text (no xml available yet :( )\n",
        "---\n"
      ]
    },
    {
      "cell_type": "markdown",
      "metadata": {
        "id": "kqH1epQTnXau",
        "colab_type": "text"
      },
      "source": [
        "### Exercise 1.1: Get familiar with the text\n",
        "Have a look at the [xml file](https://github.com/OpenGreekAndLatin/First1KGreek/blob/master/data/tlg2022/tlg003/tlg2022.tlg003.opp-grc1.xml).\n",
        "It contains all lines of the poem with lots of meta information, in the header as well as along each page:\n",
        "- editorial information\n",
        "- information about online edition\n",
        "- line numbers\n",
        "- footnotes\n",
        "\n",
        "We parse the lines like this:\n",
        "```\n",
        "<l n=\"1\">Εἴθ᾿ ὤφελ’ ἐν λειμῶνι μηδ’ ἕρπειν ὄφις,</l>\n",
        "\n",
        "```\n",
        "Have a look at the function [load_xml(fname) on line 1667 of alignment.py](https://github.com/nicoschmidt/DigitalCentones/blob/3c1df2ce56f5d4776be395dd62773e70b715cd88/alignment.py#L167).\n",
        "\n",
        "---\n"
      ]
    },
    {
      "cell_type": "markdown",
      "metadata": {
        "id": "m905nMBlHKhj",
        "colab_type": "text"
      },
      "source": [
        "### Exercise 1.2: Get familiar with the data structures\n",
        "The lines are loaded in a list-like structure.\n",
        "\n",
        "While parsing, some pre-processing is done that will help with finding alignments:\n",
        "- punctuation removed\n",
        "- lower case\n",
        "- diacritics removed\n"
      ]
    },
    {
      "cell_type": "code",
      "metadata": {
        "id": "KPP6usf7jSh_",
        "colab_type": "code",
        "outputId": "de0e85e3-f66b-48ac-f359-001247e78300",
        "colab": {
          "base_uri": "https://localhost:8080/",
          "height": 1207
        }
      },
      "source": [
        "# get Christus Patiens xml file (if not present)\n",
        "!([ ! -f tlg2022.tlg003.opp-grc1.xml ]) && wget https://raw.githubusercontent.com/OpenGreekAndLatin/First1KGreek/master/data/tlg2022/tlg003/tlg2022.tlg003.opp-grc1.xml\n",
        "lines_chr_pat = load_xml('tlg2022.tlg003.opp-grc1.xml')\n",
        "for i in range(30, len(lines_chr_pat)):\n",
        "    lines_chr_pat[i].no = -29+i # hack to re-number lines\n",
        "lines_chr_pat = lines_chr_pat[30:100]\n",
        "print('Christus Patiens:', lines_chr_pat[:3],'\\n\\n')\n",
        "\n",
        "lines_medea = load_plain_text('DigitalCentones/data/Medea-48.txt', 'Medea', 'Medea', 'Euripides')\n",
        "print('Medea:', lines_medea[:3], '\\n\\n')"
      ],
      "execution_count": 3,
      "outputs": [
        {
          "output_type": "stream",
          "text": [
            "--2019-05-22 19:14:18--  https://raw.githubusercontent.com/OpenGreekAndLatin/First1KGreek/master/data/tlg2022/tlg003/tlg2022.tlg003.opp-grc1.xml\n",
            "Resolving raw.githubusercontent.com (raw.githubusercontent.com)... 151.101.0.133, 151.101.64.133, 151.101.128.133, ...\n",
            "Connecting to raw.githubusercontent.com (raw.githubusercontent.com)|151.101.0.133|:443... connected.\n",
            "HTTP request sent, awaiting response... 200 OK\n",
            "Length: 403903 (394K) [text/plain]\n",
            "Saving to: ‘tlg2022.tlg003.opp-grc1.xml’\n",
            "\n",
            "\r          tlg2022.t   0%[                    ]       0  --.-KB/s               \rtlg2022.tlg003.opp- 100%[===================>] 394.44K  --.-KB/s    in 0.09s   \n",
            "\n",
            "2019-05-22 19:14:18 (4.41 MB/s) - ‘tlg2022.tlg003.opp-grc1.xml’ saved [403903/403903]\n",
            "\n",
            "Christus Patiens: [work_id:            urn:cts:greekLit:tlg2022.tlg003.opp-grc1\n",
            "idx:                30\n",
            "no:                 1\n",
            "speaker:            ΘΕΟΤΟΚΟΣ.\n",
            "text_raw:           Εἴθ᾿ ὤφελ’ ἐν λειμῶνι μηδ’ ἕρπειν ὄφις,\n",
            "text:               εἴθ ὤφελ ἐν λειμῶνι μηδ ἕρπειν ὄφις\n",
            "text_no_diacritics: ειθ ωφελ εν λειμωνι μηδ ερπειν οφις\n",
            "text_lemma:         \n",
            "lemma_ids:          [], work_id:            urn:cts:greekLit:tlg2022.tlg003.opp-grc1\n",
            "idx:                31\n",
            "no:                 2\n",
            "speaker:            ΘΕΟΤΟΚΟΣ.\n",
            "text_raw:           μηδ’ ἐν νάπαισι τοῦδ’ ὑφεδρεύειν δράκων\n",
            "text:               μηδ ἐν νάπαισι τοῦδ ὑφεδρεύειν δράκων\n",
            "text_no_diacritics: μηδ εν ναπαισι τουδ υφεδρευειν δρακων\n",
            "text_lemma:         \n",
            "lemma_ids:          [], work_id:            urn:cts:greekLit:tlg2022.tlg003.opp-grc1\n",
            "idx:                32\n",
            "no:                 3\n",
            "speaker:            ΘΕΟΤΟΚΟΣ.\n",
            "text_raw:           ἀγκυλομήτης· οὐ γὰρ ἂν πλευρᾶς φῦμα,\n",
            "text:               ἀγκυλομήτης οὐ γὰρ ἂν πλευρᾶς φῦμα\n",
            "text_no_diacritics: αγκυλομητης ου γαρ αν πλευρας φυμα\n",
            "text_lemma:         \n",
            "lemma_ids:          []] \n",
            "\n",
            "\n",
            "Medea: [work_id:            Medea\n",
            "idx:                0\n",
            "no:                 1\n",
            "speaker:            \n",
            "text_raw:           Εἴθ’ ὤφελ’ Ἀργοῦς μὴ διαπτάσθαι σκάφος\n",
            "text:               εἴθ ὤφελ ἀργοῦς μὴ διαπτάσθαι σκάφος\n",
            "text_no_diacritics: ειθ ωφελ αργους μη διαπτασθαι σκαφος\n",
            "text_lemma:         \n",
            "lemma_ids:          [], work_id:            Medea\n",
            "idx:                1\n",
            "no:                 2\n",
            "speaker:            \n",
            "text_raw:           Κόλχων ἐς αἶαν κυανέας Συμπληγάδας,\n",
            "text:               κόλχων ἐς αἶαν κυανέας συμπληγάδας\n",
            "text_no_diacritics: κολχων ες αιαν κυανεας συμπληγαδας\n",
            "text_lemma:         \n",
            "lemma_ids:          [], work_id:            Medea\n",
            "idx:                2\n",
            "no:                 3\n",
            "speaker:            \n",
            "text_raw:           μηδ’ ἐν νάπαισι Πηλίου πεσεῖν ποτε\n",
            "text:               μηδ ἐν νάπαισι πηλίου πεσεῖν ποτε\n",
            "text_no_diacritics: μηδ εν ναπαισι πηλιου πεσειν ποτε\n",
            "text_lemma:         \n",
            "lemma_ids:          []] \n",
            "\n",
            "\n"
          ],
          "name": "stdout"
        }
      ]
    },
    {
      "cell_type": "markdown",
      "metadata": {
        "id": "jFOadldspj3N",
        "colab_type": "text"
      },
      "source": [
        "\n",
        "\n",
        "\n",
        "---\n",
        "\n",
        "**Print all characters with diacritics**\n",
        "\n"
      ]
    },
    {
      "cell_type": "code",
      "metadata": {
        "id": "qS9YtJd8mDo4",
        "colab_type": "code",
        "outputId": "a5cec074-681a-4938-d374-bd64c03450fa",
        "colab": {
          "base_uri": "https://localhost:8080/",
          "height": 1835
        }
      },
      "source": [
        "# print all characters in the corpus:\n",
        "alphabet = np.unique([c for lines in [lines_chr_pat, lines_medea] for line in lines for c in line.text])\n",
        "print('ID, Character, Name')\n",
        "for a in alphabet:\n",
        "    print('{} \"{}\" {}'.format(hex(ord(a)), a, unicodedata.name(a, 'not defined')))"
      ],
      "execution_count": 4,
      "outputs": [
        {
          "output_type": "stream",
          "text": [
            "ID, Character, Name\n",
            "0x20 \" \" SPACE\n",
            "0x3ac \"ά\" GREEK SMALL LETTER ALPHA WITH TONOS\n",
            "0x3ad \"έ\" GREEK SMALL LETTER EPSILON WITH TONOS\n",
            "0x3ae \"ή\" GREEK SMALL LETTER ETA WITH TONOS\n",
            "0x3af \"ί\" GREEK SMALL LETTER IOTA WITH TONOS\n",
            "0x3b1 \"α\" GREEK SMALL LETTER ALPHA\n",
            "0x3b2 \"β\" GREEK SMALL LETTER BETA\n",
            "0x3b3 \"γ\" GREEK SMALL LETTER GAMMA\n",
            "0x3b4 \"δ\" GREEK SMALL LETTER DELTA\n",
            "0x3b5 \"ε\" GREEK SMALL LETTER EPSILON\n",
            "0x3b6 \"ζ\" GREEK SMALL LETTER ZETA\n",
            "0x3b7 \"η\" GREEK SMALL LETTER ETA\n",
            "0x3b8 \"θ\" GREEK SMALL LETTER THETA\n",
            "0x3b9 \"ι\" GREEK SMALL LETTER IOTA\n",
            "0x3ba \"κ\" GREEK SMALL LETTER KAPPA\n",
            "0x3bb \"λ\" GREEK SMALL LETTER LAMDA\n",
            "0x3bc \"μ\" GREEK SMALL LETTER MU\n",
            "0x3bd \"ν\" GREEK SMALL LETTER NU\n",
            "0x3be \"ξ\" GREEK SMALL LETTER XI\n",
            "0x3bf \"ο\" GREEK SMALL LETTER OMICRON\n",
            "0x3c0 \"π\" GREEK SMALL LETTER PI\n",
            "0x3c1 \"ρ\" GREEK SMALL LETTER RHO\n",
            "0x3c2 \"ς\" GREEK SMALL LETTER FINAL SIGMA\n",
            "0x3c3 \"σ\" GREEK SMALL LETTER SIGMA\n",
            "0x3c4 \"τ\" GREEK SMALL LETTER TAU\n",
            "0x3c5 \"υ\" GREEK SMALL LETTER UPSILON\n",
            "0x3c6 \"φ\" GREEK SMALL LETTER PHI\n",
            "0x3c7 \"χ\" GREEK SMALL LETTER CHI\n",
            "0x3c8 \"ψ\" GREEK SMALL LETTER PSI\n",
            "0x3c9 \"ω\" GREEK SMALL LETTER OMEGA\n",
            "0x3ca \"ϊ\" GREEK SMALL LETTER IOTA WITH DIALYTIKA\n",
            "0x3cc \"ό\" GREEK SMALL LETTER OMICRON WITH TONOS\n",
            "0x3cd \"ύ\" GREEK SMALL LETTER UPSILON WITH TONOS\n",
            "0x3ce \"ώ\" GREEK SMALL LETTER OMEGA WITH TONOS\n",
            "0x1f00 \"ἀ\" GREEK SMALL LETTER ALPHA WITH PSILI\n",
            "0x1f01 \"ἁ\" GREEK SMALL LETTER ALPHA WITH DASIA\n",
            "0x1f02 \"ἂ\" GREEK SMALL LETTER ALPHA WITH PSILI AND VARIA\n",
            "0x1f04 \"ἄ\" GREEK SMALL LETTER ALPHA WITH PSILI AND OXIA\n",
            "0x1f05 \"ἅ\" GREEK SMALL LETTER ALPHA WITH DASIA AND OXIA\n",
            "0x1f10 \"ἐ\" GREEK SMALL LETTER EPSILON WITH PSILI\n",
            "0x1f14 \"ἔ\" GREEK SMALL LETTER EPSILON WITH PSILI AND OXIA\n",
            "0x1f15 \"ἕ\" GREEK SMALL LETTER EPSILON WITH DASIA AND OXIA\n",
            "0x1f20 \"ἠ\" GREEK SMALL LETTER ETA WITH PSILI\n",
            "0x1f21 \"ἡ\" GREEK SMALL LETTER ETA WITH DASIA\n",
            "0x1f22 \"ἢ\" GREEK SMALL LETTER ETA WITH PSILI AND VARIA\n",
            "0x1f23 \"ἣ\" GREEK SMALL LETTER ETA WITH DASIA AND VARIA\n",
            "0x1f24 \"ἤ\" GREEK SMALL LETTER ETA WITH PSILI AND OXIA\n",
            "0x1f25 \"ἥ\" GREEK SMALL LETTER ETA WITH DASIA AND OXIA\n",
            "0x1f30 \"ἰ\" GREEK SMALL LETTER IOTA WITH PSILI\n",
            "0x1f31 \"ἱ\" GREEK SMALL LETTER IOTA WITH DASIA\n",
            "0x1f33 \"ἳ\" GREEK SMALL LETTER IOTA WITH DASIA AND VARIA\n",
            "0x1f34 \"ἴ\" GREEK SMALL LETTER IOTA WITH PSILI AND OXIA\n",
            "0x1f35 \"ἵ\" GREEK SMALL LETTER IOTA WITH DASIA AND OXIA\n",
            "0x1f36 \"ἶ\" GREEK SMALL LETTER IOTA WITH PSILI AND PERISPOMENI\n",
            "0x1f37 \"ἷ\" GREEK SMALL LETTER IOTA WITH DASIA AND PERISPOMENI\n",
            "0x1f40 \"ὀ\" GREEK SMALL LETTER OMICRON WITH PSILI\n",
            "0x1f41 \"ὁ\" GREEK SMALL LETTER OMICRON WITH DASIA\n",
            "0x1f43 \"ὃ\" GREEK SMALL LETTER OMICRON WITH DASIA AND VARIA\n",
            "0x1f44 \"ὄ\" GREEK SMALL LETTER OMICRON WITH PSILI AND OXIA\n",
            "0x1f45 \"ὅ\" GREEK SMALL LETTER OMICRON WITH DASIA AND OXIA\n",
            "0x1f50 \"ὐ\" GREEK SMALL LETTER UPSILON WITH PSILI\n",
            "0x1f51 \"ὑ\" GREEK SMALL LETTER UPSILON WITH DASIA\n",
            "0x1f53 \"ὓ\" GREEK SMALL LETTER UPSILON WITH DASIA AND VARIA\n",
            "0x1f54 \"ὔ\" GREEK SMALL LETTER UPSILON WITH PSILI AND OXIA\n",
            "0x1f55 \"ὕ\" GREEK SMALL LETTER UPSILON WITH DASIA AND OXIA\n",
            "0x1f56 \"ὖ\" GREEK SMALL LETTER UPSILON WITH PSILI AND PERISPOMENI\n",
            "0x1f60 \"ὠ\" GREEK SMALL LETTER OMEGA WITH PSILI\n",
            "0x1f61 \"ὡ\" GREEK SMALL LETTER OMEGA WITH DASIA\n",
            "0x1f64 \"ὤ\" GREEK SMALL LETTER OMEGA WITH PSILI AND OXIA\n",
            "0x1f65 \"ὥ\" GREEK SMALL LETTER OMEGA WITH DASIA AND OXIA\n",
            "0x1f66 \"ὦ\" GREEK SMALL LETTER OMEGA WITH PSILI AND PERISPOMENI\n",
            "0x1f67 \"ὧ\" GREEK SMALL LETTER OMEGA WITH DASIA AND PERISPOMENI\n",
            "0x1f70 \"ὰ\" GREEK SMALL LETTER ALPHA WITH VARIA\n",
            "0x1f71 \"ά\" GREEK SMALL LETTER ALPHA WITH OXIA\n",
            "0x1f72 \"ὲ\" GREEK SMALL LETTER EPSILON WITH VARIA\n",
            "0x1f73 \"έ\" GREEK SMALL LETTER EPSILON WITH OXIA\n",
            "0x1f74 \"ὴ\" GREEK SMALL LETTER ETA WITH VARIA\n",
            "0x1f75 \"ή\" GREEK SMALL LETTER ETA WITH OXIA\n",
            "0x1f76 \"ὶ\" GREEK SMALL LETTER IOTA WITH VARIA\n",
            "0x1f77 \"ί\" GREEK SMALL LETTER IOTA WITH OXIA\n",
            "0x1f78 \"ὸ\" GREEK SMALL LETTER OMICRON WITH VARIA\n",
            "0x1f79 \"ό\" GREEK SMALL LETTER OMICRON WITH OXIA\n",
            "0x1f7a \"ὺ\" GREEK SMALL LETTER UPSILON WITH VARIA\n",
            "0x1f7b \"ύ\" GREEK SMALL LETTER UPSILON WITH OXIA\n",
            "0x1f7c \"ὼ\" GREEK SMALL LETTER OMEGA WITH VARIA\n",
            "0x1f7d \"ώ\" GREEK SMALL LETTER OMEGA WITH OXIA\n",
            "0x1f94 \"ᾔ\" GREEK SMALL LETTER ETA WITH PSILI AND OXIA AND YPOGEGRAMMENI\n",
            "0x1fa4 \"ᾤ\" GREEK SMALL LETTER OMEGA WITH PSILI AND OXIA AND YPOGEGRAMMENI\n",
            "0x1fb6 \"ᾶ\" GREEK SMALL LETTER ALPHA WITH PERISPOMENI\n",
            "0x1fb7 \"ᾷ\" GREEK SMALL LETTER ALPHA WITH PERISPOMENI AND YPOGEGRAMMENI\n",
            "0x1fc3 \"ῃ\" GREEK SMALL LETTER ETA WITH YPOGEGRAMMENI\n",
            "0x1fc6 \"ῆ\" GREEK SMALL LETTER ETA WITH PERISPOMENI\n",
            "0x1fc7 \"ῇ\" GREEK SMALL LETTER ETA WITH PERISPOMENI AND YPOGEGRAMMENI\n",
            "0x1fd6 \"ῖ\" GREEK SMALL LETTER IOTA WITH PERISPOMENI\n",
            "0x1fe5 \"ῥ\" GREEK SMALL LETTER RHO WITH DASIA\n",
            "0x1fe6 \"ῦ\" GREEK SMALL LETTER UPSILON WITH PERISPOMENI\n",
            "0x1ff3 \"ῳ\" GREEK SMALL LETTER OMEGA WITH YPOGEGRAMMENI\n",
            "0x1ff4 \"ῴ\" GREEK SMALL LETTER OMEGA WITH OXIA AND YPOGEGRAMMENI\n",
            "0x1ff6 \"ῶ\" GREEK SMALL LETTER OMEGA WITH PERISPOMENI\n",
            "0x1ff7 \"ῷ\" GREEK SMALL LETTER OMEGA WITH PERISPOMENI AND YPOGEGRAMMENI\n"
          ],
          "name": "stdout"
        }
      ]
    },
    {
      "cell_type": "markdown",
      "metadata": {
        "id": "wIqrnXPhqRM2",
        "colab_type": "text"
      },
      "source": [
        "**Print all characters without diacritics**"
      ]
    },
    {
      "cell_type": "code",
      "metadata": {
        "id": "ac4FEVB7qUyG",
        "colab_type": "code",
        "outputId": "8e7e821a-4052-4ed1-99de-1b3a03823e57",
        "colab": {
          "base_uri": "https://localhost:8080/",
          "height": 503
        }
      },
      "source": [
        "alphabet_no_diacritics = np.unique([c for lines in [lines_chr_pat, lines_medea] for line in lines for c in line.text_no_diacritics])\n",
        "print('ID, Character, Name')\n",
        "for a in alphabet_no_diacritics:\n",
        "    print('{} \"{}\" {}'.format(hex(ord(a)), a, unicodedata.name(a, 'not defined')))\n"
      ],
      "execution_count": 5,
      "outputs": [
        {
          "output_type": "stream",
          "text": [
            "ID, Character, Name\n",
            "0x20 \" \" SPACE\n",
            "0x3b1 \"α\" GREEK SMALL LETTER ALPHA\n",
            "0x3b2 \"β\" GREEK SMALL LETTER BETA\n",
            "0x3b3 \"γ\" GREEK SMALL LETTER GAMMA\n",
            "0x3b4 \"δ\" GREEK SMALL LETTER DELTA\n",
            "0x3b5 \"ε\" GREEK SMALL LETTER EPSILON\n",
            "0x3b6 \"ζ\" GREEK SMALL LETTER ZETA\n",
            "0x3b7 \"η\" GREEK SMALL LETTER ETA\n",
            "0x3b8 \"θ\" GREEK SMALL LETTER THETA\n",
            "0x3b9 \"ι\" GREEK SMALL LETTER IOTA\n",
            "0x3ba \"κ\" GREEK SMALL LETTER KAPPA\n",
            "0x3bb \"λ\" GREEK SMALL LETTER LAMDA\n",
            "0x3bc \"μ\" GREEK SMALL LETTER MU\n",
            "0x3bd \"ν\" GREEK SMALL LETTER NU\n",
            "0x3be \"ξ\" GREEK SMALL LETTER XI\n",
            "0x3bf \"ο\" GREEK SMALL LETTER OMICRON\n",
            "0x3c0 \"π\" GREEK SMALL LETTER PI\n",
            "0x3c1 \"ρ\" GREEK SMALL LETTER RHO\n",
            "0x3c2 \"ς\" GREEK SMALL LETTER FINAL SIGMA\n",
            "0x3c3 \"σ\" GREEK SMALL LETTER SIGMA\n",
            "0x3c4 \"τ\" GREEK SMALL LETTER TAU\n",
            "0x3c5 \"υ\" GREEK SMALL LETTER UPSILON\n",
            "0x3c6 \"φ\" GREEK SMALL LETTER PHI\n",
            "0x3c7 \"χ\" GREEK SMALL LETTER CHI\n",
            "0x3c8 \"ψ\" GREEK SMALL LETTER PSI\n",
            "0x3c9 \"ω\" GREEK SMALL LETTER OMEGA\n"
          ],
          "name": "stdout"
        }
      ]
    },
    {
      "cell_type": "markdown",
      "metadata": {
        "id": "_qACHAjrsXhk",
        "colab_type": "text"
      },
      "source": [
        "## Load all Matches found by Tuillier 1969\n",
        "As a baseline we compare our alignment results later on to the matches found by an expert researcher in the field, Andre Tuillier, who, in his edition of the Christus Patiens from 1969, listed down all the corresponding lines he found relevant. Thanks to Lena, who analized these correspondences during her PhD thesis, we have these correspondences as a [machine-readable text file](https://github.com/nicoschmidt/DigitalCentones/blob/master/data/ChristusPatiens_Tulliers_matches.csv) and can load them here."
      ]
    },
    {
      "cell_type": "code",
      "metadata": {
        "id": "rYeEWo7YqnbQ",
        "colab_type": "code",
        "outputId": "93a8dc7e-826d-4fa8-e2ec-7edfcd9fc560",
        "colab": {
          "base_uri": "https://localhost:8080/",
          "height": 917
        }
      },
      "source": [
        "# Input file is a text file with one header row and remaining rows structured as\n",
        "# '<target_line_number>,<source_work_number>,<source_work_line_number>...\\n'\n",
        "line_to_line_map = np.loadtxt('DigitalCentones/data/ChristusPatiens_Tulliers_matches.csv', int, delimiter=',', skiprows=1, usecols=[0,1,2])\n",
        "\n",
        "# These are all matched works Toullier found\n",
        "source_work_names = ['Agamemnon',\n",
        "                     'Prometheus',\n",
        "                     'Alkestis',\n",
        "                     'Andromache',\n",
        "                     'Bakchen',\n",
        "                     'Hekabe',\n",
        "                     'Helena',\n",
        "                     'Hippolytos',\n",
        "                     'Iphigenie in Aulis',\n",
        "                     'Iphigenie in Tauris',\n",
        "                     'Medea',\n",
        "                     'Orestes',\n",
        "                     'Ph\\\"onikerinnen',\n",
        "                     'Rhesos',\n",
        "                     'Troerinnen',\n",
        "                     'Ilias',\n",
        "                     'Alexandra']\n",
        "\n",
        "# store map as a dictionary with target_line_number as keys and tuples (<source_work_id>, <source_work_number>) as values \n",
        "line_to_line_map = dict([(target_line_no,(source_work_names[source_work_id-1], source_line_id)) for target_line_no, source_work_id, source_line_id in line_to_line_map])\n",
        "for k in list(line_to_line_map)[:50]:\n",
        "    print('{}: {}'.format(k, line_to_line_map[k]))"
      ],
      "execution_count": 10,
      "outputs": [
        {
          "output_type": "stream",
          "text": [
            "1: ('Medea', 1)\n",
            "2: ('Medea', 3)\n",
            "3: ('Medea', 6)\n",
            "4: ('Medea', 20)\n",
            "5: ('Hekabe', 1123)\n",
            "6: ('Medea', 8)\n",
            "8: ('Medea', 9)\n",
            "14: ('Medea', 10)\n",
            "15: ('Medea', 11)\n",
            "17: ('Prometheus', 1027)\n",
            "25: ('Alexandra', 151)\n",
            "32: ('Medea', 14)\n",
            "33: ('Medea', 15)\n",
            "34: ('Medea', 13)\n",
            "37: ('Medea', 16)\n",
            "38: ('Medea', 17)\n",
            "39: ('Agamemnon', 764)\n",
            "40: ('Troerinnen', 605)\n",
            "41: ('Troerinnen', 620)\n",
            "42: ('Troerinnen', 621)\n",
            "43: ('Medea', 20)\n",
            "45: ('Prometheus', 1027)\n",
            "46: ('Medea', 25)\n",
            "47: ('Medea', 26)\n",
            "50: ('Hippolytos', 450)\n",
            "51: ('Medea', 21)\n",
            "52: ('Medea', 22)\n",
            "53: ('Medea', 34)\n",
            "54: ('Medea', 35)\n",
            "55: ('Medea', 36)\n",
            "56: ('Medea', 56)\n",
            "57: ('Medea', 57)\n",
            "58: ('Medea', 58)\n",
            "59: ('Medea', 59)\n",
            "61: ('Hekabe', 736)\n",
            "65: ('Agamemnon', 611)\n",
            "66: ('Agamemnon', 612)\n",
            "71: ('Agamemnon', 587)\n",
            "72: ('Agamemnon', 588)\n",
            "73: ('Agamemnon', 589)\n",
            "75: ('Agamemnon', 593)\n",
            "76: ('Agamemnon', 591)\n",
            "77: ('Troerinnen', 747)\n",
            "78: ('Troerinnen', 748)\n",
            "79: ('Agamemnon', 594)\n",
            "80: ('Agamemnon', 595)\n",
            "81: ('Agamemnon', 596)\n",
            "82: ('Agamemnon', 597)\n",
            "88: ('Rhesos', 63)\n",
            "90: ('Rhesos', 66)\n"
          ],
          "name": "stdout"
        }
      ]
    },
    {
      "cell_type": "markdown",
      "metadata": {
        "id": "JhrfF4fudTuC",
        "colab_type": "text"
      },
      "source": [
        "# 2) Compare alignments"
      ]
    },
    {
      "cell_type": "markdown",
      "metadata": {
        "id": "udxwc4s5dbI6",
        "colab_type": "text"
      },
      "source": [
        "## The expert's results\n",
        "First we go through the lines listed by Tuillier to find exact line-to-line alignments and visualize them.\n",
        "\n",
        "With our automatic alignment search later on, we seek to get as close as possible to these matches **without knowing anything about ancient Greek tragedies!** "
      ]
    },
    {
      "cell_type": "code",
      "metadata": {
        "id": "N6jjU4s6uNkr",
        "colab_type": "code",
        "outputId": "073e7b7a-48e3-4863-e3ba-34e50a66548b",
        "colab": {
          "base_uri": "https://localhost:8080/",
          "height": 1762
        }
      },
      "source": [
        "# find matches by searching in given line-to-line map\n",
        "smith_waterman = SmithWaterman(match_score=2,\n",
        "                               mismatch_score=-1,\n",
        "                               gap_score=-1,\n",
        "                               n_max_alignments=1,\n",
        "                               min_score_treshold=0)\n",
        "alignments_outfile = 'alignments_word-based_Toullier'\n",
        "target_lines = lines_chr_pat\n",
        "source_lines_dict = {lines_medea[0].work_id:lines_medea}\n",
        "alignments = find_line_to_line_alignments(target_lines, source_lines_dict, smith_waterman.align, 3, lambda line:line.text_no_diacritics.split(' '), line_to_line_map)\n",
        "save_alignments_html(alignments, target_lines, source_lines_dict, alignments_outfile, lambda line:line.text_raw.split(' '), 4)\n",
        "HTML(filename='./'+ alignments_outfile + '.html')"
      ],
      "execution_count": 0,
      "outputs": [
        {
          "output_type": "stream",
          "text": [
            "searching all verses for alignments...\n",
            "0/70 (  0%)\n",
            "10/70 ( 14%)\n",
            "20/70 ( 29%)\n",
            "30/70 ( 43%)\n",
            "40/70 ( 57%)\n",
            "50/70 ( 71%)\n",
            "60/70 ( 86%)\n"
          ],
          "name": "stdout"
        },
        {
          "output_type": "execute_result",
          "data": {
            "text/html": [
              "<!DOCTYPE html>\n",
              "<html>\n",
              "<head>\n",
              "<style>\n",
              "th {\n",
              "\ttext-align: center;\n",
              "}\n",
              "td {\n",
              "\ttext-align: center;\n",
              "}\n",
              ".match {\n",
              "\tbackground-color:Yellow\n",
              "}\n",
              "</style>\n",
              "</head>\n",
              "<body>\n",
              "<table>\n",
              "<tr>\n",
              "\t<th>Target Line ID</th>\n",
              "\t<th>Target Line No.</th>\n",
              "\t<th>Target Line Text</th>\n",
              "\t<th>Source Line Text</th>\n",
              "\t<th>Source Line No.</th>\n",
              "\t<th>Source Text ID</th>\n",
              "\t<th>Alignment Score</th>\n",
              "</tr>\n",
              "<tr><td>30</td><td>1</td><td> <span class=\"match\">Εἴθ᾿ ὤφελ’</span> ἐν λειμῶνι μηδ’ ἕρπειν ὄφις,</td><td> <span class=\"match\">Εἴθ’ ὤφελ’</span> Ἀργοῦς μὴ διαπτάσθαι σκάφος</td><td>1</td><td>Medea</td><td>4</td></tr>\n",
              "<tr><td>31</td><td>2</td><td> <span class=\"match\">μηδ’ ἐν νάπαισι</span> τοῦδ’ ὑφεδρεύειν δράκων</td><td> <span class=\"match\">μηδ’ ἐν νάπαισι</span> Πηλίου πεσεῖν ποτε</td><td>3</td><td>Medea</td><td>6</td></tr>\n",
              "<tr><td>32</td><td>3</td><td>ἀγκυλομήτης· <span class=\"match\">οὐ γὰρ ἂν</span> πλευρᾶς φῦμα,</td><td>Πελίαι μετῆλθον. <span class=\"match\">οὐ γὰρ ἂν</span> δέσποιν’ ἐμὴ</td><td>6</td><td>Medea</td><td>6</td></tr>\n",
              "<tr><td>33</td><td>4</td><td>μήτηρ γένους δύστηνος ἠπατημένη,</td><td></td><td></td><td></td><td></td></tr>\n",
              "<tr><td>34</td><td>5</td><td>τόλμημα τολμᾶν παντάτολμον ἀνέτλη,</td><td></td><td></td><td></td><td></td></tr>\n",
              "<tr><td>35</td><td>6</td><td>ἔρνους <span class=\"match\">ἔρωτι θυμὸν</span> ἐκπεπληγμένη,</td><td> <span class=\"match\">ἔρωτι θυμὸν</span> ἐκπλαγεῖσ’ Ἰάσονος·</td><td>8</td><td>Medea</td><td>4</td></tr>\n",
              "<tr><td>36</td><td>7</td><td>θεώσεως πεισθεῖσα τυχεῖν αὐτόθεν,</td><td></td><td></td><td></td><td></td></tr>\n",
              "<tr><td>37</td><td>8</td><td> <span class=\"match\">οὐδ’ ἂν φαγεῖν πείσασα</span> καρποῦ τὸν πόσιν</td><td> <span class=\"match\">οὐδ’ ἂν κτανεῖν πείσασα</span> Πελιάδας κόρας</td><td>9</td><td>Medea</td><td>5</td></tr>\n",
              "<tr><td>38</td><td>9</td><td>τοῦ μηδὲ συμφέροντος αὐτίκα σφίσι</td><td></td><td></td><td></td><td></td></tr>\n",
              "<tr><td>39</td><td>10</td><td>λειμῶνος ἐξῴκιστο τοῦ πανολβίου,</td><td></td><td></td><td></td><td></td></tr>\n",
              "<tr><td>40</td><td>11</td><td>λύμην κατακριθεῖσα καὶ λυγρὸν μόρον,</td><td></td><td></td><td></td><td></td></tr>\n",
              "<tr><td>41</td><td>12</td><td>μήτηρ τέκνων τ’ ἤκουσεν ἐκ δυσκοιτίας</td><td></td><td></td><td></td><td></td></tr>\n",
              "<tr><td>42</td><td>13</td><td>μογοστοκοῦσ’ ὠδῖσί τ’ ἐμπαρειμένη</td><td></td><td></td><td></td><td></td></tr>\n",
              "<tr><td>43</td><td>14</td><td>ἱδρῶτ’ ἂν ᾤκει <span class=\"match\">τήνδε γῆν</span> ὀλεθρίαν</td><td>πατέρα κατώικει <span class=\"match\">τήνδε γῆν</span> Κορινθίαν</td><td>10</td><td>Medea</td><td>4</td></tr>\n",
              "<tr><td>44</td><td>15</td><td>σὺν <span class=\"match\">ἀνδρὶ καὶ τέκνοισιν</span> ἀρᾶς ὑστάτης,</td><td>ξὺν <span class=\"match\">ἀνδρὶ καὶ τέκνοισιν,</span> ἁνδάνουσα μὲν</td><td>11</td><td>Medea</td><td>6</td></tr>\n",
              "<tr><td>45</td><td>16</td><td>ἅπερ τεκεῖν ὥριστο λύπαις καὶ στόνοις,</td><td></td><td></td><td></td><td></td></tr>\n",
              "<tr><td>46</td><td>17</td><td>διαδοχάς τε παραπέμπειν τῷ βίῳ</td><td></td><td></td><td></td><td></td></tr>\n",
              "<tr><td>47</td><td>18</td><td>διαλλαγάς τ’ ἐντεῦθεν εὑρεῖν ἐξόχους,</td><td></td><td></td><td></td><td></td></tr>\n",
              "<tr><td>48</td><td>19</td><td>οὐδ’ ἂν γένος τ’ ὄλωλεν ἀνθρώπων ἅπαν,</td><td></td><td></td><td></td><td></td></tr>\n",
              "<tr><td>49</td><td>20</td><td>καὶ τὸν Δυνατὸν ἀλθανεῖν ἔπεισέ πως</td><td></td><td></td><td></td><td></td></tr>\n",
              "<tr><td>50</td><td>21</td><td>ἀγαθότητι δαπέδῳ κατιέναι</td><td></td><td></td><td></td><td></td></tr>\n",
              "<tr><td>51</td><td>22</td><td>καινῶς βροτωθῆναί τε καὶ τλῆσαι πάθος,</td><td></td><td></td><td></td><td></td></tr>\n",
              "<tr><td>52</td><td>23</td><td>οὐδ’ ἂν ἐγὼ πέφυκα μήτηρ παρθένος</td><td></td><td></td><td></td><td></td></tr>\n",
              "<tr><td>53</td><td>24</td><td>καὶ νῦν ἔκλυον Υἱὸν ἕλκεσθαι κρίσει,</td><td></td><td></td><td></td><td></td></tr>\n",
              "<tr><td>54</td><td>25</td><td>οὐράνιον, γήϊνον, ἀκραιφνῆ γοναῖς,</td><td></td><td></td><td></td><td></td></tr>\n",
              "<tr><td>55</td><td>26</td><td>ἰδεῖν τ’ ἔφριττον τόνδε καθυβρισμένον,</td><td></td><td></td><td></td><td></td></tr>\n",
              "<tr><td>56</td><td>27</td><td>ἄτερ δαλῶν φέρουσα, φεῦ, δεινὴν φλόγα,</td><td></td><td></td><td></td><td></td></tr>\n",
              "<tr><td>57</td><td>28</td><td>ἣ σφόδρα μαιμάσσει με καὶ δονεῖ κέαρ</td><td></td><td></td><td></td><td></td></tr>\n",
              "<tr><td>58</td><td>29</td><td>καὶ καρδίαν δίεισιν ὡς ῥόπτρον μέγα,</td><td></td><td></td><td></td><td></td></tr>\n",
              "<tr><td>59</td><td>30</td><td>ὡς νητρεκῶς ἤυσε Συμεὼν γέρων,</td><td></td><td></td><td></td><td></td></tr>\n",
              "<tr><td>60</td><td>31</td><td>τηλεσκόποις ὄμμασι πάντως προβλέπων.</td><td></td><td></td><td></td><td></td></tr>\n",
              "<tr><td>61</td><td>32</td><td>Ἠ που μεγέστη γίνεται σωτηρία,</td><td></td><td></td><td></td><td></td></tr>\n",
              "<tr><td>62</td><td>33</td><td> <span class=\"match\">ὅταν γυνὴ πρὸς ἄνδρα μὴ διχοστατῇ,</span> </td><td> <span class=\"match\">ὅταν γυνὴ πρὸς ἄνδρα μὴ διχοστατῆι.</span> </td><td>15</td><td>Medea</td><td>12</td></tr>\n",
              "<tr><td>63</td><td>34</td><td>τὰ πάντα συμφέρουσα τῷδ’, ὥσπερ θέμις,</td><td></td><td></td><td></td><td></td></tr>\n",
              "<tr><td>64</td><td>35</td><td>μηδὲ πρὸς ἄλλου πάρφασίν τινα κλύῃ,</td><td></td><td></td><td></td><td></td></tr>\n",
              "<tr><td>65</td><td>36</td><td>ἀλλ’ ἐστι συμφρονοῦσα γνησίῳ πόσει.</td><td></td><td></td><td></td><td></td></tr>\n",
              "<tr><td>66</td><td>37</td><td> <span class=\"match\">Νῦν δ’ ἐχθρὰ πάντα, καὶ νοσεῖ τὰ</span> καίρια,</td><td> <span class=\"match\">νῦν δ’ ἐχθρὰ πάντα καὶ νοσεῖ τὰ</span> φίλτατα.</td><td>16</td><td>Medea</td><td>14</td></tr>\n",
              "<tr><td>67</td><td>38</td><td>αὐτῆς προδούσης ἄνδρα καὶ κράτους κλέος.</td><td></td><td></td><td></td><td></td></tr>\n",
              "<tr><td>68</td><td>39</td><td>Φιλεῖ γὰρ ὕβρις ἡ πάλαι τίκτειν νέαν·</td><td></td><td></td><td></td><td></td></tr>\n",
              "<tr><td>69</td><td>40</td><td>ἐκ δακρύων δάκρυα καταλείβεται,</td><td></td><td></td><td></td><td></td></tr>\n",
              "<tr><td>70</td><td>41</td><td>ὧν οὔτε μέτρον οὔτ’ ἀριθμός ἐστί τις·</td><td></td><td></td><td></td><td></td></tr>\n",
              "<tr><td>71</td><td>42</td><td>κακῷ κακὸν γὰρ εἰς ἅμιλλαν ἔρχεται.</td><td></td><td></td><td></td><td></td></tr>\n",
              "<tr><td>72</td><td>43</td><td>Ὅθεν πότνια φύσις ἠτιμωμένη</td><td></td><td></td><td></td><td></td></tr>\n",
              "<tr><td>73</td><td>44</td><td>στένει κλάουσα συμφορὰς πεφυρμένας</td><td></td><td></td><td></td><td></td></tr>\n",
              "<tr><td>74</td><td>45</td><td>διαδοχάς τε τῶν ἀφερτάτων πόνων,</td><td></td><td></td><td></td><td></td></tr>\n",
              "<tr><td>75</td><td>46</td><td> <span class=\"match\">τὸν πάντα συντήκουσα δακρύοις χρόνον,</span> </td><td> <span class=\"match\">τὸν πάντα συντήκουσα δακρύοις χρόνον</span> </td><td>25</td><td>Medea</td><td>10</td></tr>\n",
              "<tr><td>76</td><td>47</td><td> <span class=\"match\">ἐπεὶ πρὸς ἐχθροῖς ᾔσθετ’ ἠδικημένη</span> </td><td> <span class=\"match\">ἐπεὶ πρὸς ἀνδρὸς ἤισθετ’ ἠδικημένη,</span> </td><td>26</td><td>Medea</td><td>7</td></tr>\n",
              "<tr><td>77</td><td>48</td><td>καὶ μητρὸς αὐτῆς πρωτοπήμονος βλάβῃ</td><td></td><td></td><td></td><td></td></tr>\n",
              "<tr><td>78</td><td>49</td><td>πατρός θ’ ὑποκλίναντος οὖας μητέρι,</td><td></td><td></td><td></td><td></td></tr>\n",
              "<tr><td>79</td><td>50</td><td>ὧν πάντες ἐσμὲν οἱ κατὰ χθόν’ ἔκγονοι.</td><td></td><td></td><td></td><td></td></tr>\n",
              "<tr><td>80</td><td>51</td><td>βοᾷ <span class=\"match\">μὲν ὅρκους, ἀνακαλεῖ δεξιὰς,</span> </td><td>βοᾶι <span class=\"match\">μὲν ὅρκους, ἀνακαλεῖ δὲ δεξιᾶς</span> </td><td>21</td><td>Medea</td><td>7</td></tr>\n",
              "<tr><td>81</td><td>52</td><td> <span class=\"match\">πίστιν μεγίστην, καὶ Θεὸν μαρτύρεται·</span> </td><td> <span class=\"match\">πίστιν μεγίστην, καὶ θεοὺς μαρτύρεται</span> </td><td>22</td><td>Medea</td><td>7</td></tr>\n",
              "<tr><td>82</td><td>53</td><td>ἔγνω γὰρ <span class=\"match\">ἡ τάλαινα συμφορῶν ὕπο,</span> </td><td>ἔγνωκε δ’ <span class=\"match\">ἡ τάλαινα συμφορᾶς ὕπο</span> </td><td>34</td><td>Medea</td><td>5</td></tr>\n",
              "<tr><td>83</td><td>54</td><td>οἱον πατρῴαν μὴ λιπεῖν ἐσθλὸν χθόνα·</td><td></td><td></td><td></td><td></td></tr>\n",
              "<tr><td>84</td><td>55</td><td> <span class=\"match\">στυγεῖ δὲ κόσμον οὐδ’ ὁρῶσ’ εὐφραίνεται.</span> </td><td> <span class=\"match\">στυγεῖ δὲ παῖδας οὐδ’ ὁρῶσ’ εὐφραίνεται.</span> </td><td>36</td><td>Medea</td><td>9</td></tr>\n",
              "<tr><td>85</td><td>56</td><td>Εἰς τοῦτο γὰρ νῦν ἐκβέβηκ’ ἀλγηδόνος,</td><td></td><td></td><td></td><td></td></tr>\n",
              "<tr><td>86</td><td>57</td><td>ὥσθ’ ἵμερός μ’ ὑπῆλθε γῇ τε καὶ πόλῳ</td><td></td><td></td><td></td><td></td></tr>\n",
              "<tr><td>87</td><td>58</td><td>λέξαι μολοῦσαν δεῦρο φύσεως βλάβας.</td><td></td><td></td><td></td><td></td></tr>\n",
              "<tr><td>88</td><td>59</td><td>Οὔπω γὰρ ἡ τάλαινα παύεται γόων,</td><td></td><td></td><td></td><td></td></tr>\n",
              "<tr><td>89</td><td>60</td><td>τίκτουσα μὴ τίκτουσα, φεύγουσ’ αὖ τόκους.</td><td></td><td></td><td></td><td></td></tr>\n",
              "<tr><td>90</td><td>61</td><td>Δύστην’· ἐμαυτὴν γὰρ λέγω, λέγουσα σὲ,</td><td></td><td></td><td></td><td></td></tr>\n",
              "<tr><td>91</td><td>62</td><td>τίκτουσαν οὐ τίκτουσαν, ὡς ὑπὲρ λόγον.</td><td></td><td></td><td></td><td></td></tr>\n",
              "<tr><td>92</td><td>63</td><td>τόκον γὰρ ἔγνων ἄτοκον, τί γὰρ φράσω;</td><td></td><td></td><td></td><td></td></tr>\n",
              "<tr><td>93</td><td>64</td><td>πόνους φυγοῦσα καὶ φθορὰν νῦν καὶ πάλαι.</td><td></td><td></td><td></td><td></td></tr>\n",
              "<tr><td>94</td><td>65</td><td>Οὐκ οἶδα τέρψιν οὐδ’ ἐπίψογον φάτιν</td><td></td><td></td><td></td><td></td></tr>\n",
              "<tr><td>95</td><td>66</td><td>τινὸς πρὸς ἀνδρὸς μᾶλλον ἢ χαλκοῦ βαφάς·</td><td></td><td></td><td></td><td></td></tr>\n",
              "<tr><td>96</td><td>67</td><td>οὐ γὰρ κορείης ἅμμα διέφθειρέ τις.</td><td></td><td></td><td></td><td></td></tr>\n",
              "<tr><td>97</td><td>68</td><td>Καὶ παῖδα πῶς ἔτικτον; ὦ θάμβος μέγα·</td><td></td><td></td><td></td><td></td></tr>\n",
              "<tr><td>98</td><td>69</td><td>ὑβρισμένον δὲ τανῦν πῶς οἴσω βλέπειν;</td><td></td><td></td><td></td><td></td></tr>\n",
              "<tr><td>99</td><td>70</td><td>πόνους φυγοῦσα πῶς ὀδυνῶμαι κέαρ;</td><td></td><td></td><td></td><td></td></tr>\n",
              "</table>\n",
              "</body>\n",
              "</html>\n"
            ],
            "text/plain": [
              "<IPython.core.display.HTML object>"
            ]
          },
          "metadata": {
            "tags": []
          },
          "execution_count": 18
        }
      ]
    },
    {
      "cell_type": "markdown",
      "metadata": {
        "id": "Q1N7i-D3x6-A",
        "colab_type": "text"
      },
      "source": [
        "## Find character-based line-to-line alignments with diacritics\n"
      ]
    },
    {
      "cell_type": "code",
      "metadata": {
        "id": "FmNvsOfHw4P-",
        "colab_type": "code",
        "outputId": "a8e3a94e-6b5e-49de-c44d-0e4a23733f1a",
        "colab": {
          "base_uri": "https://localhost:8080/",
          "height": 1744
        }
      },
      "source": [
        "smith_waterman = SmithWaterman(match_score=2,\n",
        "                               mismatch_score=-1,\n",
        "                               gap_score=-1,\n",
        "                               n_max_alignments=1,\n",
        "                               min_score_treshold=0)\n",
        "line_form_func = lambda line:line.text # we use the lower-case text with diacritics\n",
        "alignments_outfile = 'alignments_character-based_with_diacritics'\n",
        "target_lines = lines_chr_pat\n",
        "source_lines_dict = {lines_medea[0].work_id:lines_medea}\n",
        "alignments = find_line_to_line_alignments(target_lines, source_lines_dict, smith_waterman.align, 3, line_form_func)\n",
        "save_alignments_html(alignments, target_lines, source_lines_dict, alignments_outfile, line_form_func)\n",
        "HTML(filename='./'+ alignments_outfile + '.html')"
      ],
      "execution_count": 0,
      "outputs": [
        {
          "output_type": "stream",
          "text": [
            "searching all verses for alignments...\n",
            "0/70 (  0%)\n",
            "10/70 ( 14%)\n",
            "20/70 ( 29%)\n",
            "30/70 ( 43%)\n",
            "40/70 ( 57%)\n",
            "50/70 ( 71%)\n",
            "60/70 ( 86%)\n"
          ],
          "name": "stdout"
        },
        {
          "output_type": "execute_result",
          "data": {
            "text/html": [
              "<!DOCTYPE html>\n",
              "<html>\n",
              "<head>\n",
              "<style>\n",
              "th {\n",
              "\ttext-align: center;\n",
              "}\n",
              "td {\n",
              "\ttext-align: center;\n",
              "}\n",
              ".match {\n",
              "\tbackground-color:Yellow\n",
              "}\n",
              "</style>\n",
              "</head>\n",
              "<body>\n",
              "<table>\n",
              "<tr>\n",
              "\t<th>Target Line ID</th>\n",
              "\t<th>Target Line No.</th>\n",
              "\t<th>Target Line Text</th>\n",
              "\t<th>Source Line Text</th>\n",
              "\t<th>Source Line No.</th>\n",
              "\t<th>Source Text ID</th>\n",
              "\t<th>Alignment Score</th>\n",
              "</tr>\n",
              "<tr><td>30</td><td>1</td><td><span class=\"match\">εἴθ ὤφελ </span>ἐν λειμῶνι μηδ ἕρπειν ὄφις</td><td><span class=\"match\">εἴθ ὤφελ </span>ἀργοῦς μὴ διαπτάσθαι σκάφος</td><td>1</td><td>Medea</td><td>18</td></tr>\n",
              "<tr><td>31</td><td>2</td><td><span class=\"match\">μηδ ἐν νάπαισι </span>τοῦδ ὑφεδρεύειν δράκων</td><td><span class=\"match\">μηδ ἐν νάπαισι </span>πηλίου πεσεῖν ποτε</td><td>3</td><td>Medea</td><td>27</td></tr>\n",
              "<tr><td>32</td><td>3</td><td>ἀγκυλομήτης<span class=\"match\"> οὐ γὰρ ἂν </span>πλευρᾶς φῦμα</td><td>πελίαι μετῆλθον<span class=\"match\"> οὐ γὰρ ἂν </span>δέσποιν ἐμὴ</td><td>6</td><td>Medea</td><td>22</td></tr>\n",
              "<tr><td>33</td><td>4</td><td>μήτηρ γένους<span class=\"match\"> δύστηνος ἠπατημένη</span></td><td>μήδεια<span class=\"match\"> δ ἡ δύστηνος ἠτιμασμένη</span></td><td>20</td><td>Medea</td><td>21</td></tr>\n",
              "<tr><td>34</td><td>5</td><td>τόλμημα τολμᾶ<span class=\"match\">ν παντ</span>άτολμον ἀνέτλη</td><td>οἷο<span class=\"match\">ν πατ</span>ρώιας μὴ ἀπολείπεσθαι χθονός</td><td>35</td><td>Medea</td><td>9</td></tr>\n",
              "<tr><td>35</td><td>6</td><td>ἔρνους <span class=\"match\">ἔρωτι θυμὸν ἐκπεπληγ</span>μένη</td><td><span class=\"match\">ἔρωτι θυμὸν ἐκπλαγ</span>εῖσ ἰάσονος</td><td>8</td><td>Medea</td><td>31</td></tr>\n",
              "<tr><td>36</td><td>7</td><td>θεώσεως πεισ<span class=\"match\">θεῖσα </span>τυχεῖν αὐτόθεν</td><td>τμη<span class=\"match\">θεῖσα </span>πεύκη μηδ ἐρετμῶσαι χέρας</td><td>4</td><td>Medea</td><td>12</td></tr>\n",
              "<tr><td>37</td><td>8</td><td><span class=\"match\">οὐδ ἂν φαγεῖν πείσασα </span>καρποῦ τὸν πόσιν</td><td><span class=\"match\">οὐδ ἂν κτανεῖν πείσασα </span>πελιάδας κόρας</td><td>9</td><td>Medea</td><td>34</td></tr>\n",
              "<tr><td>38</td><td>9</td><td>τοῦ μηδὲ συμ<span class=\"match\">φέροντος αὐτίκα </span>σφίσι</td><td>κακῶν νέα γὰρ <span class=\"match\">φροντὶς οὐκ </span>ἀλγεῖν φιλεῖ</td><td>48</td><td>Medea</td><td>14</td></tr>\n",
              "<tr><td>39</td><td>10</td><td>λειμῶνος ἐξῴκιστ<span class=\"match\">ο τοῦ πα</span>νολβίου</td><td>γήμας κρέ<span class=\"match\">οντος πα</span>ῖδ ὃς αἰσυμνᾶι χθονός</td><td>19</td><td>Medea</td><td>10</td></tr>\n",
              "<tr><td>40</td><td>11</td><td>λύμην κατακρι<span class=\"match\">θεῖσα </span>καὶ λυγρὸν μόρον</td><td>τμη<span class=\"match\">θεῖσα </span>πεύκη μηδ ἐρετμῶσαι χέρας</td><td>4</td><td>Medea</td><td>12</td></tr>\n",
              "<tr><td>41</td><td>12</td><td>μήτηρ τέκ<span class=\"match\">νων τ ἤκουσεν ἐκ δυσκοι</span>τίας</td><td>τὸν πάντα συ<span class=\"match\">ντήκουσα δακρύοι</span>ς χρόνον</td><td>25</td><td>Medea</td><td>10</td></tr>\n",
              "<tr><td>42</td><td>13</td><td>μογοστοκοῦσ ὠδῖσί<span class=\"match\"> τ ἐμ</span>παρειμένη</td><td>προδοὺς γὰρ αὑτοῦ τέκνα δεσπότιν<span class=\"match\"> τ ἐμ</span>ὴν</td><td>17</td><td>Medea</td><td>10</td></tr>\n",
              "<tr><td>43</td><td>14</td><td>ἱδρῶτ ἂν ᾤ<span class=\"match\">κει τήνδε γῆν </span>ὀλεθρίαν</td><td>πατέρα κατώι<span class=\"match\">κει τήνδε γῆν </span>κορινθίαν</td><td>10</td><td>Medea</td><td>25</td></tr>\n",
              "<tr><td>44</td><td>15</td><td>σ<span class=\"match\">ὺν ἀνδρὶ καὶ τέκνοισιν </span>ἀρᾶς ὑστάτης</td><td>ξ<span class=\"match\">ὺν ἀνδρὶ καὶ τέκνοισιν </span>ἁνδάνουσα μὲν</td><td>11</td><td>Medea</td><td>43</td></tr>\n",
              "<tr><td>45</td><td>16</td><td>ἅπερ τεκεῖν ὥριστο λύπαις<span class=\"match\"> καὶ στόνοι</span>ς</td><td>ξὺν ἀνδρὶ<span class=\"match\"> καὶ τέκνοι</span>σιν ἁνδάνουσα μὲν</td><td>11</td><td>Medea</td><td>15</td></tr>\n",
              "<tr><td>46</td><td>17</td><td>διαδοχάς<span class=\"match\"> τε π</span>αραπέμπειν τῷ βίῳ</td><td>αὐτῶι<span class=\"match\"> τε π</span>άντα ξυμφέρουσ ἰάσονι</td><td>13</td><td>Medea</td><td>10</td></tr>\n",
              "<tr><td>47</td><td>18</td><td>διαλλαγάς τ ἐντεῦθεν<span class=\"match\"> εὑρεῖν </span>ἐξόχους</td><td>μηδ ἐν νάπαισι πηλίου<span class=\"match\"> πεσεῖν </span>ποτε</td><td>3</td><td>Medea</td><td>9</td></tr>\n",
              "<tr><td>48</td><td>19</td><td><span class=\"match\">οὐδ ἂν </span>γένος τ ὄλωλεν ἀνθρώπων ἅπαν</td><td><span class=\"match\">οὐδ ἂν </span>κτανεῖν πείσασα πελιάδας κόρας</td><td>9</td><td>Medea</td><td>14</td></tr>\n",
              "<tr><td>49</td><td>20</td><td>καὶ τὸν δυνατὸ<span class=\"match\">ν ἀλθανεῖν ἔπεισέ π</span>ως</td><td>οὐδ ἂ<span class=\"match\">ν κτανεῖν πείσασα π</span>ελιάδας κόρας</td><td>9</td><td>Medea</td><td>18</td></tr>\n",
              "<tr><td>50</td><td>21</td><td>ἀγαθότητι δαπέδῳ<span class=\"match\"> κατι</span>έναι</td><td>πατέρα<span class=\"match\"> κατώι</span>κει τήνδε γῆν κορινθίαν</td><td>10</td><td>Medea</td><td>9</td></tr>\n",
              "<tr><td>51</td><td>22</td><td>καινῶς βροτωθῆναί τε<span class=\"match\"> καὶ τ</span>λῆσαι πάθος</td><td>ξὺν ἀνδρὶ<span class=\"match\"> καὶ τ</span>έκνοισιν ἁνδάνουσα μὲν</td><td>11</td><td>Medea</td><td>12</td></tr>\n",
              "<tr><td>52</td><td>23</td><td><span class=\"match\">οὐδ ἂν </span>ἐγὼ πέφυκα μήτηρ παρθένος</td><td><span class=\"match\">οὐδ ἂν </span>κτανεῖν πείσασα πελιάδας κόρας</td><td>9</td><td>Medea</td><td>14</td></tr>\n",
              "<tr><td>53</td><td>24</td><td>καὶ νῦν ἔκλυον υἱὸν ἕ<span class=\"match\">λκεσθαι </span>κρίσει</td><td>οἷον πατρώιας μὴ ἀπο<span class=\"match\">λείπεσθαι </span>χθονός</td><td>35</td><td>Medea</td><td>12</td></tr>\n",
              "<tr><td>54</td><td>25</td><td>οὐρά<span class=\"match\">νιον </span>γήϊνον ἀκραιφνῆ γοναῖς</td><td>ἔχθραν τις αὐτῆι καλλί<span class=\"match\">νικον </span>ἄισεται</td><td>45</td><td>Medea</td><td>9</td></tr>\n",
              "<tr><td>55</td><td>26</td><td>ἰδεῖν τ ἔφριττον<span class=\"match\"> τόνδε </span>καθυβρισμένον</td><td>πατέρα κατώικει<span class=\"match\"> τήνδε </span>γῆν κορινθίαν</td><td>10</td><td>Medea</td><td>11</td></tr>\n",
              "<tr><td>56</td><td>27</td><td>ἄτερ δαλῶν φέρουσα φεῦ <span class=\"match\">δεινὴν </span>φλόγα</td><td><span class=\"match\">δεινὴ </span>γάρ οὔτοι ῥαιδίως γε συμβαλὼν</td><td>44</td><td>Medea</td><td>11</td></tr>\n",
              "<tr><td>57</td><td>28</td><td>ἣ σφόδρα μαιμάσσει με<span class=\"match\"> καὶ δονεῖ </span>κέαρ</td><td>νῦν δ ἐχθρὰ πάντα<span class=\"match\"> καὶ νοσεῖ </span>τὰ φίλτατα</td><td>16</td><td>Medea</td><td>16</td></tr>\n",
              "<tr><td>58</td><td>29</td><td>καὶ καρδίαν δίεισι<span class=\"match\">ν ὡς ῥόπτρον </span>μέγα</td><td>πρόσωπο<span class=\"match\">ν ὡς δὲ πέτρος </span>ἢ θαλάσσιος</td><td>28</td><td>Medea</td><td>15</td></tr>\n",
              "<tr><td>59</td><td>30</td><td>ὡς νητρεκῶ<span class=\"match\">ς ἤυσε συμεὼν</span> γέρων</td><td>δεινὴ γάρ οὔτοι ῥαιδίω<span class=\"match\">ς γε συμβαλὼν</span></td><td>44</td><td>Medea</td><td>12</td></tr>\n",
              "<tr><td>60</td><td>31</td><td>τηλεσκόποις ὄμμασι πάντω<span class=\"match\">ς προ</span>βλέπων</td><td>καὶ γαῖαν οἴκους θ οὓ<span class=\"match\">ς προ</span>δοῦσ ἀφίκετο</td><td>32</td><td>Medea</td><td>10</td></tr>\n",
              "<tr><td>61</td><td>32</td><td>ἠ που<span class=\"match\"> μεγέστη γίνεται σωτηρία</span></td><td>ἥπερ<span class=\"match\"> μεγίστη γίγνεται σωτηρία</span></td><td>14</td><td>Medea</td><td>38</td></tr>\n",
              "<tr><td>62</td><td>33</td><td><span class=\"match\">ὅταν γυνὴ πρὸς ἄνδρα μὴ διχοστατ</span>ῇ</td><td><span class=\"match\">ὅταν γυνὴ πρὸς ἄνδρα μὴ διχοστατ</span>ῆι</td><td>15</td><td>Medea</td><td>64</td></tr>\n",
              "<tr><td>63</td><td>34</td><td><span class=\"match\">τὰ πάντα συμφέρουσα </span>τῷδ ὥσπερ θέμις</td><td>αὐτῶι <span class=\"match\">τε πάντα ξυμφέρουσ </span>ἰάσονι</td><td>13</td><td>Medea</td><td>25</td></tr>\n",
              "<tr><td>64</td><td>35</td><td>μηδὲ<span class=\"match\"> πρὸς ἄ</span>λλου πάρφασίν τινα κλύῃ</td><td>ὅταν γυνὴ<span class=\"match\"> πρὸς ἄ</span>νδρα μὴ διχοστατῆι</td><td>15</td><td>Medea</td><td>14</td></tr>\n",
              "<tr><td>65</td><td>36</td><td>ἀλλ ἐστι<span class=\"match\"> συμφρον</span>οῦσα γνησίῳ πόσει</td><td>κἄπειτα μείζω<span class=\"match\"> συμφορὰν</span> λάβηι τινά</td><td>43</td><td>Medea</td><td>12</td></tr>\n",
              "<tr><td>66</td><td>37</td><td><span class=\"match\">νῦν δ ἐχθρὰ πάντα καὶ νοσεῖ τὰ </span>καίρια</td><td><span class=\"match\">νῦν δ ἐχθρὰ πάντα καὶ νοσεῖ τὰ </span>φίλτατα</td><td>16</td><td>Medea</td><td>59</td></tr>\n",
              "<tr><td>67</td><td>38</td><td>αὐτῆς προδούση<span class=\"match\">ς ἄνδρα </span>καὶ κράτους κλέος</td><td>ὅταν γυνὴ πρὸ<span class=\"match\">ς ἄνδρα </span>μὴ διχοστατῆι</td><td>15</td><td>Medea</td><td>16</td></tr>\n",
              "<tr><td>68</td><td>39</td><td>φιλ<span class=\"match\">εῖ γὰρ </span>ὕβρις ἡ πάλαι τίκτειν νέαν</td><td>βαρ<span class=\"match\">εῖα γὰρ </span>φρήν οὐδ ἀνέξεται κακῶς</td><td>38</td><td>Medea</td><td>13</td></tr>\n",
              "<tr><td>69</td><td>40</td><td>ἐκ δακρύω<span class=\"match\">ν δάκρυα καταλε</span>ίβεται</td><td>βοᾶι μὲ<span class=\"match\">ν ὅρκους ἀνακαλε</span>ῖ δὲ δεξιᾶς</td><td>21</td><td>Medea</td><td>11</td></tr>\n",
              "<tr><td>70</td><td>41</td><td>ὧν <span class=\"match\">οὔτε μέτρον οὔτ ἀ</span>ριθμός ἐστί τις</td><td><span class=\"match\">οὔτ ὄμμ ἐπαίρουσ οὔτ ἀ</span>παλλάσσουσα γῆς</td><td>27</td><td>Medea</td><td>16</td></tr>\n",
              "<tr><td>71</td><td>42</td><td>κακῷ <span class=\"match\">κακὸν γὰρ </span>εἰς ἅμιλλαν ἔρχεται</td><td><span class=\"match\">κακῶν νέα γὰρ </span>φροντὶς οὐκ ἀλγεῖν φιλεῖ</td><td>48</td><td>Medea</td><td>13</td></tr>\n",
              "<tr><td>72</td><td>43</td><td>ὅθεν πότνια φύσι<span class=\"match\">ς ἠτιμωμένη</span></td><td>μήδεια δ ἡ δύστηνο<span class=\"match\">ς ἠτιμασμένη</span></td><td>20</td><td>Medea</td><td>15</td></tr>\n",
              "<tr><td>73</td><td>44</td><td>στένει κλάουσ<span class=\"match\">α συμφορὰς π</span>εφυρμένας</td><td>ἔγνωκε δ ἡ τάλαιν<span class=\"match\">α συμφορᾶς ὕπ</span>ο</td><td>34</td><td>Medea</td><td>20</td></tr>\n",
              "<tr><td>74</td><td>45</td><td>διαδοχάς τε τ<span class=\"match\">ῶν ἀφερτάτων </span>πόνων</td><td>ἀνδρ<span class=\"match\">ῶν ἀριστέων </span>οἳ τὸ πάγχρυσον δέρος</td><td>5</td><td>Medea</td><td>13</td></tr>\n",
              "<tr><td>75</td><td>46</td><td><span class=\"match\">τὸν πάντα συντήκουσα δακρύοις χρόνον</span></td><td><span class=\"match\">τὸν πάντα συντήκουσα δακρύοις χρόνον</span></td><td>25</td><td>Medea</td><td>60</td></tr>\n",
              "<tr><td>76</td><td>47</td><td><span class=\"match\">ἐπεὶ πρὸς ἐχθροῖς ᾔσθετ ἠδικημένη</span></td><td><span class=\"match\">ἐπεὶ πρὸς ἀνδρὸς ἤισθετ ἠδικημένη</span></td><td>26</td><td>Medea</td><td>44</td></tr>\n",
              "<tr><td>77</td><td>48</td><td>καὶ<span class=\"match\"> μητρὸς αὐ</span>τῆς πρωτοπήμονος βλάβῃ</td><td>στείχουσι<span class=\"match\"> μητρὸς οὐ</span>δὲν ἐννοούμενοι</td><td>47</td><td>Medea</td><td>17</td></tr>\n",
              "<tr><td>78</td><td>49</td><td><span class=\"match\">πατρός θ ὑποκλ</span>ίναντος οὖας μητέρι</td><td>οἷον <span class=\"match\">πατρώιας μὴ ἀπολ</span>είπεσθαι χθονός</td><td>35</td><td>Medea</td><td>13</td></tr>\n",
              "<tr><td>79</td><td>50</td><td>ὧ<span class=\"match\">ν πάντες ἐσμὲν οἱ κατ</span>ὰ χθόν ἔκγονοι</td><td>ἢ καὶ τύρα<span class=\"match\">ννον τόν τε γήμαντα κτ</span>άνηι</td><td>42</td><td>Medea</td><td>11</td></tr>\n",
              "<tr><td>80</td><td>51</td><td><span class=\"match\">βοᾷ μὲν ὅρκους ἀνακαλεῖ δεξιὰς</span></td><td><span class=\"match\">βοᾶι μὲν ὅρκους ἀνακαλεῖ δὲ δεξιᾶς</span></td><td>21</td><td>Medea</td><td>50</td></tr>\n",
              "<tr><td>81</td><td>52</td><td><span class=\"match\">πίστιν μεγίστην καὶ θεὸν μαρτύρεται</span></td><td><span class=\"match\">πίστιν μεγίστην καὶ θεοὺς μαρτύρεται</span></td><td>22</td><td>Medea</td><td>54</td></tr>\n",
              "<tr><td>82</td><td>53</td><td><span class=\"match\">ἔγνω γὰρ ἡ τάλαινα συμφορῶν ὕπο</span></td><td><span class=\"match\">ἔγνωκε δ ἡ τάλαινα συμφορᾶς ὕπο</span></td><td>34</td><td>Medea</td><td>42</td></tr>\n",
              "<tr><td>83</td><td>54</td><td><span class=\"match\">οἱον πατρῴαν μὴ λιπεῖν ἐσθλὸν χθόν</span>α</td><td><span class=\"match\">οἷον πατρώιας μὴ ἀπολείπεσθαι χθον</span>ός</td><td>35</td><td>Medea</td><td>27</td></tr>\n",
              "<tr><td>84</td><td>55</td><td><span class=\"match\">στυγεῖ δὲ κόσμον οὐδ ὁρῶσ εὐφραίνεται</span></td><td><span class=\"match\">στυγεῖ δὲ παῖδας οὐδ ὁρῶσ εὐφραίνεται</span></td><td>36</td><td>Medea</td><td>53</td></tr>\n",
              "<tr><td>85</td><td>56</td><td>εἰς<span class=\"match\"> τοῦτο γὰρ νῦν </span>ἐκβέβηκ ἀλγηδόνος</td><td>πελίαι μετῆλθον<span class=\"match\"> οὐ γὰρ ἂν </span>δέσποιν ἐμὴ</td><td>6</td><td>Medea</td><td>13</td></tr>\n",
              "<tr><td>86</td><td>57</td><td>ὥσθ ἵμερός μ ὑπῆλθε γῇ <span class=\"match\">τε καὶ </span>πόλῳ</td><td>νῦν δ ἐχθρὰ πάν<span class=\"match\">τα καὶ </span>νοσεῖ τὰ φίλτατα</td><td>16</td><td>Medea</td><td>11</td></tr>\n",
              "<tr><td>87</td><td>58</td><td>λέξαι μολοῦ<span class=\"match\">σαν δεῦρο</span> φύσεως βλάβας</td><td>ἀνδρῶν ἀριστέων οἳ τὸ πάγχρυ<span class=\"match\">σον δέρο</span>ς</td><td>5</td><td>Medea</td><td>9</td></tr>\n",
              "<tr><td>88</td><td>59</td><td>οὔπω γὰρ<span class=\"match\"> ἡ τάλαινα </span>παύεται γόων</td><td>ἔγνωκε<span class=\"match\"> δ ἡ τάλαινα </span>συμφορᾶς ὕπο</td><td>34</td><td>Medea</td><td>19</td></tr>\n",
              "<tr><td>89</td><td>60</td><td>τίκτουσ<span class=\"match\">α μὴ τίκτουσα </span>φεύγουσ αὖ τόκους</td><td>τὸν πάντ<span class=\"match\">α συντήκουσα </span>δακρύοις χρόνον</td><td>25</td><td>Medea</td><td>13</td></tr>\n",
              "<tr><td>90</td><td>61</td><td>δύστην ἐμαυτὴν γὰρ λέγω λέγ<span class=\"match\">ουσα σὲ</span></td><td>ξὺν ἀνδρὶ καὶ τέκνοισιν ἁνδάν<span class=\"match\">ουσα μὲ</span>ν</td><td>11</td><td>Medea</td><td>11</td></tr>\n",
              "<tr><td>91</td><td>62</td><td>τίκτουσ<span class=\"match\">αν οὐ τίκτουσαν ὡς ὑπὲρ</span> λόγον</td><td>καὶ γ<span class=\"match\">αῖαν οἴκους θ οὓς πρ</span>οδοῦσ ἀφίκετο</td><td>32</td><td>Medea</td><td>12</td></tr>\n",
              "<tr><td>92</td><td>63</td><td>τόκον γὰρ ἔγνων ἄτο<span class=\"match\">κον τί γὰρ φρ</span>άσω</td><td><span class=\"match\">κακῶν νέα γὰρ φρ</span>οντὶς οὐκ ἀλγεῖν φιλεῖ</td><td>48</td><td>Medea</td><td>16</td></tr>\n",
              "<tr><td>93</td><td>64</td><td>πόνους φυγοῦσα<span class=\"match\"> καὶ φθορὰν νῦν </span>καὶ πάλαι</td><td>ἢ<span class=\"match\"> καὶ τύραννον </span>τόν τε γήμαντα κτάνηι</td><td>42</td><td>Medea</td><td>14</td></tr>\n",
              "<tr><td>94</td><td>65</td><td>οὐκ οἶδα τέρψι<span class=\"match\">ν οὐδ </span>ἐπίψογον φάτιν</td><td>βαρεῖα γὰρ φρή<span class=\"match\">ν οὐδ </span>ἀνέξεται κακῶς</td><td>38</td><td>Medea</td><td>12</td></tr>\n",
              "<tr><td>95</td><td>66</td><td>τινὸς<span class=\"match\"> πρὸς ἀνδρὸς </span>μᾶλλον ἢ χαλκοῦ βαφάς</td><td>ἐπεὶ<span class=\"match\"> πρὸς ἀνδρὸς </span>ἤισθετ ἠδικημένη</td><td>26</td><td>Medea</td><td>26</td></tr>\n",
              "<tr><td>96</td><td>67</td><td><span class=\"match\">οὐ γὰρ </span>κορείης ἅμμα διέφθειρέ τις</td><td>πελίαι μετῆλθον <span class=\"match\">οὐ γὰρ </span>ἂν δέσποιν ἐμὴ</td><td>6</td><td>Medea</td><td>14</td></tr>\n",
              "<tr><td>97</td><td>68</td><td>καὶ<span class=\"match\"> παῖδα </span>πῶς ἔτικτον ὦ θάμβος μέγα</td><td>στυγεῖ δὲ<span class=\"match\"> παῖδας </span>οὐδ ὁρῶσ εὐφραίνεται</td><td>36</td><td>Medea</td><td>13</td></tr>\n",
              "<tr><td>98</td><td>69</td><td>ὑβρισμέ<span class=\"match\">νον δὲ τανῦν π</span>ῶς οἴσω βλέπειν</td><td>οὐδ ἂ<span class=\"match\">ν κτανεῖν π</span>είσασα πελιάδας κόρας</td><td>9</td><td>Medea</td><td>11</td></tr>\n",
              "<tr><td>99</td><td>70</td><td>πόνους φυγοῦσα πῶς ὀδυνῶμ<span class=\"match\">αι κέα</span>ρ</td><td>βαρεῖα γὰρ φρήν οὐδ ἀνέξετ<span class=\"match\">αι κα</span>κῶς</td><td>38</td><td>Medea</td><td>9</td></tr>\n",
              "</table>\n",
              "</body>\n",
              "</html>\n"
            ],
            "text/plain": [
              "<IPython.core.display.HTML object>"
            ]
          },
          "metadata": {
            "tags": []
          },
          "execution_count": 20
        }
      ]
    },
    {
      "cell_type": "markdown",
      "metadata": {
        "id": "XY3-k-Coy7FV",
        "colab_type": "text"
      },
      "source": [
        "## Find character-based line-to-line alignments without diacritics"
      ]
    },
    {
      "cell_type": "code",
      "metadata": {
        "id": "eiJYrxYtyOt2",
        "colab_type": "code",
        "outputId": "ea9f1042-4006-4d80-a84f-bb98fbbb08e0",
        "colab": {
          "base_uri": "https://localhost:8080/",
          "height": 1762
        }
      },
      "source": [
        "smith_waterman = SmithWaterman(match_score=2,\n",
        "                               mismatch_score=-1,\n",
        "                               gap_score=-1,\n",
        "                               n_max_alignments=1,\n",
        "                               min_score_treshold=0)\n",
        "line_form_func = lambda line:line.text_no_diacritics\n",
        "alignments_outfile = 'alignments_character-based_without_diacritics'\n",
        "target_lines = lines_chr_pat\n",
        "source_lines_dict = {lines_medea[0].work_id:lines_medea}\n",
        "alignments = find_line_to_line_alignments(target_lines, source_lines_dict, smith_waterman.align, 3, line_form_func)\n",
        "save_alignments_html(alignments, target_lines, source_lines_dict, alignments_outfile, line_form_func, 4)\n",
        "HTML(filename='./'+ alignments_outfile + '.html')"
      ],
      "execution_count": 0,
      "outputs": [
        {
          "output_type": "stream",
          "text": [
            "searching all verses for alignments...\n",
            "0/70 (  0%)\n",
            "10/70 ( 14%)\n",
            "20/70 ( 29%)\n",
            "30/70 ( 43%)\n",
            "40/70 ( 57%)\n",
            "50/70 ( 71%)\n",
            "60/70 ( 86%)\n"
          ],
          "name": "stdout"
        },
        {
          "output_type": "execute_result",
          "data": {
            "text/html": [
              "<!DOCTYPE html>\n",
              "<html>\n",
              "<head>\n",
              "<style>\n",
              "th {\n",
              "\ttext-align: center;\n",
              "}\n",
              "td {\n",
              "\ttext-align: center;\n",
              "}\n",
              ".match {\n",
              "\tbackground-color:Yellow\n",
              "}\n",
              "</style>\n",
              "</head>\n",
              "<body>\n",
              "<table>\n",
              "<tr>\n",
              "\t<th>Target Line ID</th>\n",
              "\t<th>Target Line No.</th>\n",
              "\t<th>Target Line Text</th>\n",
              "\t<th>Source Line Text</th>\n",
              "\t<th>Source Line No.</th>\n",
              "\t<th>Source Text ID</th>\n",
              "\t<th>Alignment Score</th>\n",
              "</tr>\n",
              "<tr><td>30</td><td>1</td><td><span class=\"match\">ειθ ωφελ </span>εν λειμωνι μηδ ερπειν οφις</td><td><span class=\"match\">ειθ ωφελ </span>αργους μη διαπτασθαι σκαφος</td><td>1</td><td>Medea</td><td>18</td></tr>\n",
              "<tr><td>31</td><td>2</td><td><span class=\"match\">μηδ εν ναπαισι τουδ υφεδρευειν </span>δρακων</td><td><span class=\"match\">μηδ εν ναπαισι πηλιου πεσειν </span>ποτε</td><td>3</td><td>Medea</td><td>35</td></tr>\n",
              "<tr><td>32</td><td>3</td><td>αγκυλο<span class=\"match\">μητης ου γαρ αν </span>πλευρας φυμα</td><td>πελιαι <span class=\"match\">μετηλθον ου γαρ αν </span>δεσποιν εμη</td><td>6</td><td>Medea</td><td>23</td></tr>\n",
              "<tr><td>33</td><td>4</td><td>μητηρ γενους<span class=\"match\"> δυστηνος ηπατημενη</span></td><td>μηδεια<span class=\"match\"> δ η δυστηνος ητιμασμενη</span></td><td>20</td><td>Medea</td><td>27</td></tr>\n",
              "<tr><td>34</td><td>5</td><td>τολμημα <span class=\"match\">τολμαν παντα</span>τολμον ανετλη</td><td><span class=\"match\">τον παντα</span> συντηκουσα δακρυοις χρονον</td><td>25</td><td>Medea</td><td>15</td></tr>\n",
              "<tr><td>35</td><td>6</td><td>ερνους <span class=\"match\">ερωτι θυμον εκπεπληγμε</span>νη</td><td><span class=\"match\">ερωτι θυμον εκπλαγε</span>ισ ιασονος</td><td>8</td><td>Medea</td><td>32</td></tr>\n",
              "<tr><td>36</td><td>7</td><td>θεωσεως<span class=\"match\"> πεισθεισα </span>τυχειν αυτοθεν</td><td>ουδ αν κτανειν<span class=\"match\"> πεισασα </span>πελιαδας κορας</td><td>9</td><td>Medea</td><td>13</td></tr>\n",
              "<tr><td>37</td><td>8</td><td><span class=\"match\">ουδ αν φαγειν πεισασα </span>καρπου τον ποσιν</td><td><span class=\"match\">ουδ αν κτανειν πεισασα </span>πελιαδας κορας</td><td>9</td><td>Medea</td><td>37</td></tr>\n",
              "<tr><td>38</td><td>9</td><td>του μηδε συμφε<span class=\"match\">ροντος αυτικα</span> σφισι</td><td>εχθ<span class=\"match\">ραν τις αυτη κα</span>λλινικον αισεται</td><td>45</td><td>Medea</td><td>15</td></tr>\n",
              "<tr><td>39</td><td>10</td><td>λειμωνος εξωκ<span class=\"match\">ιστο του πα</span>νολβιου</td><td>ανδρων αρ<span class=\"match\">ιστεων οι το πα</span>γχρυσον δερος</td><td>5</td><td>Medea</td><td>14</td></tr>\n",
              "<tr><td>40</td><td>11</td><td>λυμην κατακριθεισα<span class=\"match\"> και λυγρον μο</span>ρον</td><td>η<span class=\"match\"> και τυραννον το</span>ν τε γημαντα κτανη</td><td>42</td><td>Medea</td><td>16</td></tr>\n",
              "<tr><td>41</td><td>12</td><td>μητηρ τεκ<span class=\"match\">νων τ ηκουσεν εκ δυσκοι</span>τιας</td><td>τον παντα συ<span class=\"match\">ντηκουσα δακρυοι</span>ς χρονον</td><td>25</td><td>Medea</td><td>14</td></tr>\n",
              "<tr><td>42</td><td>13</td><td>μογοστοκουσ<span class=\"match\"> ωδισι τ εμ</span>παρειμενη</td><td>προδους γαρ αυτου τεκνα<span class=\"match\"> δεσποτιν τ εμ</span>ην</td><td>17</td><td>Medea</td><td>12</td></tr>\n",
              "<tr><td>43</td><td>14</td><td>ιδρωτ<span class=\"match\"> αν ωκει τηνδε γην ολεθριαν</span></td><td>πατερα<span class=\"match\"> κατωκει τηνδε γην κορινθιαν</span></td><td>10</td><td>Medea</td><td>36</td></tr>\n",
              "<tr><td>44</td><td>15</td><td>σ<span class=\"match\">υν ανδρι και τεκνοισιν αρας υστα</span>της</td><td>ξ<span class=\"match\">υν ανδρι και τεκνοισιν ανδανουσα</span> μεν</td><td>11</td><td>Medea</td><td>51</td></tr>\n",
              "<tr><td>45</td><td>16</td><td>απερ τεκειν ωριστο λυπα<span class=\"match\">ις και στονοι</span>ς</td><td>ξυν ανδρ<span class=\"match\">ι και τεκνοι</span>σιν ανδανουσα μεν</td><td>11</td><td>Medea</td><td>16</td></tr>\n",
              "<tr><td>46</td><td>17</td><td>διαδοχας<span class=\"match\"> τε παραπεμπειν τω </span>βιω</td><td>προδους γαρ αυτου<span class=\"match\"> τεκνα δεσποτιν τ </span>εμην</td><td>17</td><td>Medea</td><td>13</td></tr>\n",
              "<tr><td>47</td><td>18</td><td>διαλλαγας τ εντευθεν<span class=\"match\"> ευρειν εξοχου</span>ς</td><td>στειχουσι μητρος<span class=\"match\"> ουδεν εννοου</span>μενοι</td><td>47</td><td>Medea</td><td>12</td></tr>\n",
              "<tr><td>48</td><td>19</td><td><span class=\"match\">ουδ αν </span>γενος τ ολωλεν ανθρωπων απαν</td><td><span class=\"match\">ουδ αν </span>κτανειν πεισασα πελιαδας κορας</td><td>9</td><td>Medea</td><td>14</td></tr>\n",
              "<tr><td>49</td><td>20</td><td>και τον δυνατο<span class=\"match\">ν αλθανειν επεισε π</span>ως</td><td>ουδ α<span class=\"match\">ν κτανειν πεισασα π</span>ελιαδας κορας</td><td>9</td><td>Medea</td><td>21</td></tr>\n",
              "<tr><td>50</td><td>21</td><td>αγαθο<span class=\"match\">τητι δαπεδω κατιεναι</span></td><td>εχθραν <span class=\"match\">τις αυτη καλλινι</span>κον αισεται</td><td>45</td><td>Medea</td><td>10</td></tr>\n",
              "<tr><td>51</td><td>22</td><td>καινως βροτωθη<span class=\"match\">ναι τε και τλησαι πα</span>θος</td><td>νυν δ εχθρα πα<span class=\"match\">ντα και νοσει τα</span> φιλτατα</td><td>16</td><td>Medea</td><td>14</td></tr>\n",
              "<tr><td>52</td><td>23</td><td><span class=\"match\">ουδ αν εγω πε</span>φυκα μητηρ παρθενος</td><td><span class=\"match\">ουδ αν κτανειν πε</span>ισασα πελιαδας κορας</td><td>9</td><td>Medea</td><td>16</td></tr>\n",
              "<tr><td>53</td><td>24</td><td><span class=\"match\">και νυν εκλυον υιον ε</span>λκεσθαι κρισει</td><td>η <span class=\"match\">και τυραννον τον τε</span> γημαντα κτανη</td><td>42</td><td>Medea</td><td>15</td></tr>\n",
              "<tr><td>54</td><td>25</td><td>ο<span class=\"match\">υρανιον γηνον </span>ακραιφνη γοναις</td><td>η και τ<span class=\"match\">υραννον τον </span>τε γημαντα κτανη</td><td>42</td><td>Medea</td><td>16</td></tr>\n",
              "<tr><td>55</td><td>26</td><td>ιδε<span class=\"match\">ιν τ εφριττον τονδε </span>καθυβρισμενον</td><td>η κα<span class=\"match\">ι τυραννον τον τε </span>γημαντα κτανη</td><td>42</td><td>Medea</td><td>15</td></tr>\n",
              "<tr><td>56</td><td>27</td><td><span class=\"match\">ατερ δαλων φερουσα </span>φευ δεινην φλογα</td><td><span class=\"match\">αυτω τε παντα ξυμφερουσ </span>ιασονι</td><td>13</td><td>Medea</td><td>16</td></tr>\n",
              "<tr><td>57</td><td>28</td><td>η σφοδ<span class=\"match\">ρα μαιμασσει με και δονει </span>κεαρ</td><td>νυν δ εχθ<span class=\"match\">ρα παντα και νοσει </span>τα φιλτατα</td><td>16</td><td>Medea</td><td>16</td></tr>\n",
              "<tr><td>58</td><td>29</td><td>και<span class=\"match\"> καρδιαν διεισιν </span>ως ροπτρον μεγα</td><td>πελιαι μετηλθον ου<span class=\"match\"> γαρ αν δεσποιν </span>εμη</td><td>6</td><td>Medea</td><td>17</td></tr>\n",
              "<tr><td>59</td><td>30</td><td>ως νητρεκ<span class=\"match\">ως ηυσε συμεων</span> γερων</td><td>δεινη γαρ ουτοι ραιδι<span class=\"match\">ως γε συμβαλων</span></td><td>44</td><td>Medea</td><td>14</td></tr>\n",
              "<tr><td>60</td><td>31</td><td>τηλεσκοποις ομμασι<span class=\"match\"> παντως προβλεπ</span>ων</td><td>οιον<span class=\"match\"> πατρωας μη απολειπ</span>εσθαι χθονος</td><td>35</td><td>Medea</td><td>14</td></tr>\n",
              "<tr><td>61</td><td>32</td><td><span class=\"match\">η που μεγεστη γινεται σωτηρια</span></td><td><span class=\"match\">ηπερ μεγιστη γιγνεται σωτηρια</span></td><td>14</td><td>Medea</td><td>45</td></tr>\n",
              "<tr><td>62</td><td>33</td><td><span class=\"match\">οταν γυνη προς ανδρα μη διχοστατη</span></td><td><span class=\"match\">οταν γυνη προς ανδρα μη διχοστατη</span></td><td>15</td><td>Medea</td><td>66</td></tr>\n",
              "<tr><td>63</td><td>34</td><td><span class=\"match\">τα παντα συμφερουσα </span>τωδ ωσπερ θεμις</td><td>αυτω <span class=\"match\">τε παντα ξυμφερουσ </span>ιασονι</td><td>13</td><td>Medea</td><td>31</td></tr>\n",
              "<tr><td>64</td><td>35</td><td>μηδε<span class=\"match\"> προς αλλου παρφα</span>σιν τινα κλυη</td><td>αυτη<span class=\"match\"> προς αυτην πατερ α</span>ποιμωξη φιλον</td><td>31</td><td>Medea</td><td>17</td></tr>\n",
              "<tr><td>65</td><td>36</td><td>αλλ εσ<span class=\"match\">τι συμφρονουσα </span>γνησιω ποσει</td><td>αυτω τε παν<span class=\"match\">τα ξυμφερουσ </span>ιασονι</td><td>13</td><td>Medea</td><td>14</td></tr>\n",
              "<tr><td>66</td><td>37</td><td><span class=\"match\">νυν δ εχθρα παντα και νοσει τα </span>καιρια</td><td><span class=\"match\">νυν δ εχθρα παντα και νοσει τα </span>φιλτατα</td><td>16</td><td>Medea</td><td>62</td></tr>\n",
              "<tr><td>67</td><td>38</td><td>α<span class=\"match\">υτης προδουσης ανδρα </span>και κρατους κλεος</td><td>οταν γ<span class=\"match\">υνη προς ανδρα </span>μη διχοστατη</td><td>15</td><td>Medea</td><td>21</td></tr>\n",
              "<tr><td>68</td><td>39</td><td>φιλ<span class=\"match\">ει γαρ υβρις η παλαι τικτει</span>ν νεαν</td><td>κακων ν<span class=\"match\">εα γαρ φροντις ουκ αλγειν φιλει</span></td><td>48</td><td>Medea</td><td>20</td></tr>\n",
              "<tr><td>69</td><td>40</td><td>εκ δακρυω<span class=\"match\">ν δακρυα καταλειβεται</span></td><td>οιο<span class=\"match\">ν πατρωας μη απολειπεσθαι</span> χθονος</td><td>35</td><td>Medea</td><td>14</td></tr>\n",
              "<tr><td>70</td><td>41</td><td>ων ουτε<span class=\"match\"> μετρον ουτ αριθμος εστι </span>τις</td><td>πελιαι<span class=\"match\"> μετηλθον ου γαρ αν δεσποιν </span>εμη</td><td>6</td><td>Medea</td><td>20</td></tr>\n",
              "<tr><td>71</td><td>42</td><td><span class=\"match\">κακω κακον γαρ εις </span>αμιλλαν ερχεται</td><td><span class=\"match\">κακων νεα γαρ φροντις </span>ουκ αλγειν φιλει</td><td>48</td><td>Medea</td><td>17</td></tr>\n",
              "<tr><td>72</td><td>43</td><td>οθεν ποτν<span class=\"match\">ια φυσις ητιμωμενη</span></td><td>μηδε<span class=\"match\">ια δ η δυστηνος ητιμασμενη</span></td><td>20</td><td>Medea</td><td>19</td></tr>\n",
              "<tr><td>73</td><td>44</td><td>στενει κ<span class=\"match\">λαουσα συμφορας π</span>εφυρμενας</td><td>εγνωκε δ η τα<span class=\"match\">λαινα συμφορας υπ</span>ο</td><td>34</td><td>Medea</td><td>24</td></tr>\n",
              "<tr><td>74</td><td>45</td><td>διαδοχας τε τ<span class=\"match\">ων αφερτατων πο</span>νων</td><td>ανδρ<span class=\"match\">ων αριστεων ο</span>ι το παγχρυσον δερος</td><td>5</td><td>Medea</td><td>14</td></tr>\n",
              "<tr><td>75</td><td>46</td><td><span class=\"match\">τον παντα συντηκουσα δακρυοις χρονον</span></td><td><span class=\"match\">τον παντα συντηκουσα δακρυοις χρονον</span></td><td>25</td><td>Medea</td><td>72</td></tr>\n",
              "<tr><td>76</td><td>47</td><td><span class=\"match\">επει προς εχθροις ησθετ ηδικημενη</span></td><td><span class=\"match\">επει προς ανδρος ησθετ ηδικημενη</span></td><td>26</td><td>Medea</td><td>54</td></tr>\n",
              "<tr><td>77</td><td>48</td><td>κα<span class=\"match\">ι μητρος αυ</span>της πρωτοπημονος βλαβη</td><td>στειχουσ<span class=\"match\">ι μητρος ου</span>δεν εννοουμενοι</td><td>47</td><td>Medea</td><td>19</td></tr>\n",
              "<tr><td>78</td><td>49</td><td><span class=\"match\">πατρος θ υποκλι</span>ναντος ουας μητερι</td><td>οιον <span class=\"match\">πατρωας μη απολει</span>πεσθαι χθονος</td><td>35</td><td>Medea</td><td>15</td></tr>\n",
              "<tr><td>79</td><td>50</td><td><span class=\"match\">ων παντες εσμεν οι κατα χθον ε</span>κγονοι</td><td>ανδρ<span class=\"match\">ων αριστεων οι το παγχρυσον δε</span>ρος</td><td>5</td><td>Medea</td><td>17</td></tr>\n",
              "<tr><td>80</td><td>51</td><td><span class=\"match\">βοα μεν ορκους ανακαλει δεξιας</span></td><td><span class=\"match\">βοαι μεν ορκους ανακαλει δε δεξιας</span></td><td>21</td><td>Medea</td><td>56</td></tr>\n",
              "<tr><td>81</td><td>52</td><td><span class=\"match\">πιστιν μεγιστην και θεον μαρτυρεται</span></td><td><span class=\"match\">πιστιν μεγιστην και θεους μαρτυρεται</span></td><td>22</td><td>Medea</td><td>66</td></tr>\n",
              "<tr><td>82</td><td>53</td><td><span class=\"match\">εγνω γαρ η ταλαινα συμφορων υπο</span></td><td><span class=\"match\">εγνωκε δ η ταλαινα συμφορας υπο</span></td><td>34</td><td>Medea</td><td>45</td></tr>\n",
              "<tr><td>83</td><td>54</td><td><span class=\"match\">οιον πατρωαν μη λιπειν εσθλον χθον</span>α</td><td><span class=\"match\">οιον πατρωας μη απολειπεσθαι χθον</span>ος</td><td>35</td><td>Medea</td><td>42</td></tr>\n",
              "<tr><td>84</td><td>55</td><td><span class=\"match\">στυγει δε κοσμον ουδ ορωσ ευφραινεται</span></td><td><span class=\"match\">στυγει δε παιδας ουδ ορωσ ευφραινεται</span></td><td>36</td><td>Medea</td><td>56</td></tr>\n",
              "<tr><td>85</td><td>56</td><td>εις<span class=\"match\"> τουτο γαρ νυν ε</span>κβεβηκ αλγηδονος</td><td>πελιαι μετηλθον<span class=\"match\"> ου γαρ αν δε</span>σποιν εμη</td><td>6</td><td>Medea</td><td>16</td></tr>\n",
              "<tr><td>86</td><td>57</td><td>ωσθ ιμε<span class=\"match\">ρος μ υπηλθε γη τε και πο</span>λω</td><td>αυτη π<span class=\"match\">ρος αυτην πατερ απο</span>ιμωξη φιλον</td><td>31</td><td>Medea</td><td>13</td></tr>\n",
              "<tr><td>87</td><td>58</td><td>λεξαι μολο<span class=\"match\">υσαν δευρο</span> φυσεως βλαβας</td><td>ανδρων αριστεων οι το παγχρ<span class=\"match\">υσον δερο</span>ς</td><td>5</td><td>Medea</td><td>14</td></tr>\n",
              "<tr><td>88</td><td>59</td><td>ουπω γαρ<span class=\"match\"> η ταλαινα </span>παυεται γοων</td><td>εγνωκε<span class=\"match\"> δ η ταλαινα </span>συμφορας υπο</td><td>34</td><td>Medea</td><td>22</td></tr>\n",
              "<tr><td>89</td><td>60</td><td>τικτουσα<span class=\"match\"> μη τικτουσα φε</span>υγουσ αυ τοκους</td><td>δεδοικα δ αυτην<span class=\"match\"> μη τι βουλευση νε</span>ον</td><td>37</td><td>Medea</td><td>15</td></tr>\n",
              "<tr><td>90</td><td>61</td><td>δυ<span class=\"match\">στην εμαυτην γαρ λε</span>γω λεγουσα σε</td><td>πι<span class=\"match\">στιν μεγιστην και θε</span>ους μαρτυρεται</td><td>22</td><td>Medea</td><td>16</td></tr>\n",
              "<tr><td>91</td><td>62</td><td>τικτουσ<span class=\"match\">αν ου τικτουσαν ως υπερ λογο</span>ν</td><td>και γ<span class=\"match\">αιαν οικους θ ους προδο</span>υσ αφικετο</td><td>32</td><td>Medea</td><td>16</td></tr>\n",
              "<tr><td>92</td><td>63</td><td>τοκον γαρ εγνων ατο<span class=\"match\">κον τι γαρ φρ</span>ασω</td><td><span class=\"match\">κακων νεα γαρ φρ</span>οντις ουκ αλγειν φιλει</td><td>48</td><td>Medea</td><td>16</td></tr>\n",
              "<tr><td>93</td><td>64</td><td>πονους φυγουσα<span class=\"match\"> και φθοραν νυν </span>και παλαι</td><td>η<span class=\"match\"> και τυραννον </span>τον τε γημαντα κτανη</td><td>42</td><td>Medea</td><td>17</td></tr>\n",
              "<tr><td>94</td><td>65</td><td>ουκ ο<span class=\"match\">ιδα τερψιν ουδ </span>επιψογον φατιν</td><td>βαρε<span class=\"match\">ια γαρ φρην ουδ </span>ανεξεται κακως</td><td>38</td><td>Medea</td><td>13</td></tr>\n",
              "<tr><td>95</td><td>66</td><td>τινος<span class=\"match\"> προς ανδρος </span>μαλλον η χαλκου βαφας</td><td>επει<span class=\"match\"> προς ανδρος </span>ησθετ ηδικημενη</td><td>26</td><td>Medea</td><td>26</td></tr>\n",
              "<tr><td>96</td><td>67</td><td><span class=\"match\">ου γαρ </span>κορειης αμμα διεφθειρε τις</td><td>πελιαι μετηλθον <span class=\"match\">ου γαρ </span>αν δεσποιν εμη</td><td>6</td><td>Medea</td><td>14</td></tr>\n",
              "<tr><td>97</td><td>68</td><td>και<span class=\"match\"> παιδα πως ετικτον </span>ω θαμβος μεγα</td><td>αλλ οιδε<span class=\"match\"> παιδες εκ τροχων </span>πεπαυμενοι</td><td>46</td><td>Medea</td><td>16</td></tr>\n",
              "<tr><td>98</td><td>69</td><td>υβρισμενον<span class=\"match\"> δε τανυν πως οισω βλε</span>πειν</td><td>δεδοικα<span class=\"match\"> δ αυτην μη τι βουλε</span>υση νεον</td><td>37</td><td>Medea</td><td>13</td></tr>\n",
              "<tr><td>99</td><td>70</td><td>πο<span class=\"match\">νους φυγουσα πως οδυνωμαι κε</span>αρ</td><td>και γαια<span class=\"match\">ν οικους θ ους προδουσ αφικε</span>το</td><td>32</td><td>Medea</td><td>16</td></tr>\n",
              "</table>\n",
              "</body>\n",
              "</html>\n"
            ],
            "text/plain": [
              "<IPython.core.display.HTML object>"
            ]
          },
          "metadata": {
            "tags": []
          },
          "execution_count": 22
        }
      ]
    },
    {
      "cell_type": "markdown",
      "metadata": {
        "id": "CyxKZq2zzEQ_",
        "colab_type": "text"
      },
      "source": [
        "## Find word-based line-to-line alignments without diacritics"
      ]
    },
    {
      "cell_type": "code",
      "metadata": {
        "id": "p9DxbKThzKub",
        "colab_type": "code",
        "outputId": "ef47ac0e-4c66-4b59-e636-29205117771a",
        "colab": {
          "base_uri": "https://localhost:8080/",
          "height": 1762
        }
      },
      "source": [
        "smith_waterman = SmithWaterman(match_score=2,\n",
        "                               mismatch_score=-1,\n",
        "                               gap_score=-1,\n",
        "                               n_max_alignments=1,\n",
        "                               min_score_treshold=0)\n",
        "line_form_func = lambda line:line.text_no_diacritics.split(' ')\n",
        "alignments_outfile = 'alignments_word-based_without_diacritics'\n",
        "target_lines = lines_chr_pat\n",
        "source_lines_dict = {lines_medea[0].work_id:lines_medea}\n",
        "alignments = find_line_to_line_alignments(target_lines, source_lines_dict, smith_waterman.align, 3, line_form_func)\n",
        "save_alignments_html(alignments, target_lines, source_lines_dict, alignments_outfile, lambda line:line.text_raw.split(' '), 4)\n",
        "HTML(filename='./'+ alignments_outfile + '.html')"
      ],
      "execution_count": 0,
      "outputs": [
        {
          "output_type": "stream",
          "text": [
            "searching all verses for alignments...\n",
            "0/70 (  0%)\n",
            "10/70 ( 14%)\n",
            "20/70 ( 29%)\n",
            "30/70 ( 43%)\n",
            "40/70 ( 57%)\n",
            "50/70 ( 71%)\n",
            "60/70 ( 86%)\n"
          ],
          "name": "stdout"
        },
        {
          "output_type": "execute_result",
          "data": {
            "text/html": [
              "<!DOCTYPE html>\n",
              "<html>\n",
              "<head>\n",
              "<style>\n",
              "th {\n",
              "\ttext-align: center;\n",
              "}\n",
              "td {\n",
              "\ttext-align: center;\n",
              "}\n",
              ".match {\n",
              "\tbackground-color:Yellow\n",
              "}\n",
              "</style>\n",
              "</head>\n",
              "<body>\n",
              "<table>\n",
              "<tr>\n",
              "\t<th>Target Line ID</th>\n",
              "\t<th>Target Line No.</th>\n",
              "\t<th>Target Line Text</th>\n",
              "\t<th>Source Line Text</th>\n",
              "\t<th>Source Line No.</th>\n",
              "\t<th>Source Text ID</th>\n",
              "\t<th>Alignment Score</th>\n",
              "</tr>\n",
              "<tr><td>30</td><td>1</td><td> <span class=\"match\">Εἴθ᾿ ὤφελ’</span> ἐν λειμῶνι μηδ’ ἕρπειν ὄφις,</td><td> <span class=\"match\">Εἴθ’ ὤφελ’</span> Ἀργοῦς μὴ διαπτάσθαι σκάφος</td><td>1</td><td>Medea</td><td>4</td></tr>\n",
              "<tr><td>31</td><td>2</td><td> <span class=\"match\">μηδ’ ἐν νάπαισι</span> τοῦδ’ ὑφεδρεύειν δράκων</td><td> <span class=\"match\">μηδ’ ἐν νάπαισι</span> Πηλίου πεσεῖν ποτε</td><td>3</td><td>Medea</td><td>6</td></tr>\n",
              "<tr><td>32</td><td>3</td><td>ἀγκυλομήτης· <span class=\"match\">οὐ γὰρ ἂν</span> πλευρᾶς φῦμα,</td><td>Πελίαι μετῆλθον. <span class=\"match\">οὐ γὰρ ἂν</span> δέσποιν’ ἐμὴ</td><td>6</td><td>Medea</td><td>6</td></tr>\n",
              "<tr><td>33</td><td>4</td><td>μήτηρ γένους δύστηνος ἠπατημένη,</td><td></td><td></td><td></td><td></td></tr>\n",
              "<tr><td>34</td><td>5</td><td>τόλμημα τολμᾶν παντάτολμον ἀνέτλη,</td><td></td><td></td><td></td><td></td></tr>\n",
              "<tr><td>35</td><td>6</td><td>ἔρνους <span class=\"match\">ἔρωτι θυμὸν</span> ἐκπεπληγμένη,</td><td> <span class=\"match\">ἔρωτι θυμὸν</span> ἐκπλαγεῖσ’ Ἰάσονος·</td><td>8</td><td>Medea</td><td>4</td></tr>\n",
              "<tr><td>36</td><td>7</td><td>θεώσεως πεισθεῖσα τυχεῖν αὐτόθεν,</td><td></td><td></td><td></td><td></td></tr>\n",
              "<tr><td>37</td><td>8</td><td> <span class=\"match\">οὐδ’ ἂν φαγεῖν πείσασα</span> καρποῦ τὸν πόσιν</td><td> <span class=\"match\">οὐδ’ ἂν κτανεῖν πείσασα</span> Πελιάδας κόρας</td><td>9</td><td>Medea</td><td>5</td></tr>\n",
              "<tr><td>38</td><td>9</td><td>τοῦ μηδὲ συμφέροντος αὐτίκα σφίσι</td><td></td><td></td><td></td><td></td></tr>\n",
              "<tr><td>39</td><td>10</td><td>λειμῶνος ἐξῴκιστο τοῦ πανολβίου,</td><td></td><td></td><td></td><td></td></tr>\n",
              "<tr><td>40</td><td>11</td><td>λύμην κατακριθεῖσα καὶ λυγρὸν μόρον,</td><td></td><td></td><td></td><td></td></tr>\n",
              "<tr><td>41</td><td>12</td><td>μήτηρ τέκνων τ’ ἤκουσεν ἐκ δυσκοιτίας</td><td></td><td></td><td></td><td></td></tr>\n",
              "<tr><td>42</td><td>13</td><td>μογοστοκοῦσ’ ὠδῖσί τ’ ἐμπαρειμένη</td><td></td><td></td><td></td><td></td></tr>\n",
              "<tr><td>43</td><td>14</td><td>ἱδρῶτ’ ἂν ᾤκει <span class=\"match\">τήνδε γῆν</span> ὀλεθρίαν</td><td>πατέρα κατώικει <span class=\"match\">τήνδε γῆν</span> Κορινθίαν</td><td>10</td><td>Medea</td><td>4</td></tr>\n",
              "<tr><td>44</td><td>15</td><td>σὺν <span class=\"match\">ἀνδρὶ καὶ τέκνοισιν</span> ἀρᾶς ὑστάτης,</td><td>ξὺν <span class=\"match\">ἀνδρὶ καὶ τέκνοισιν,</span> ἁνδάνουσα μὲν</td><td>11</td><td>Medea</td><td>6</td></tr>\n",
              "<tr><td>45</td><td>16</td><td>ἅπερ τεκεῖν ὥριστο λύπαις καὶ στόνοις,</td><td></td><td></td><td></td><td></td></tr>\n",
              "<tr><td>46</td><td>17</td><td>διαδοχάς τε παραπέμπειν τῷ βίῳ</td><td></td><td></td><td></td><td></td></tr>\n",
              "<tr><td>47</td><td>18</td><td>διαλλαγάς τ’ ἐντεῦθεν εὑρεῖν ἐξόχους,</td><td></td><td></td><td></td><td></td></tr>\n",
              "<tr><td>48</td><td>19</td><td> <span class=\"match\">οὐδ’ ἂν</span> γένος τ’ ὄλωλεν ἀνθρώπων ἅπαν,</td><td> <span class=\"match\">οὐδ’ ἂν</span> κτανεῖν πείσασα Πελιάδας κόρας</td><td>9</td><td>Medea</td><td>4</td></tr>\n",
              "<tr><td>49</td><td>20</td><td>καὶ τὸν Δυνατὸν ἀλθανεῖν ἔπεισέ πως</td><td></td><td></td><td></td><td></td></tr>\n",
              "<tr><td>50</td><td>21</td><td>ἀγαθότητι δαπέδῳ κατιέναι</td><td></td><td></td><td></td><td></td></tr>\n",
              "<tr><td>51</td><td>22</td><td>καινῶς βροτωθῆναί τε καὶ τλῆσαι πάθος,</td><td></td><td></td><td></td><td></td></tr>\n",
              "<tr><td>52</td><td>23</td><td> <span class=\"match\">οὐδ’ ἂν</span> ἐγὼ πέφυκα μήτηρ παρθένος</td><td> <span class=\"match\">οὐδ’ ἂν</span> κτανεῖν πείσασα Πελιάδας κόρας</td><td>9</td><td>Medea</td><td>4</td></tr>\n",
              "<tr><td>53</td><td>24</td><td>καὶ νῦν ἔκλυον Υἱὸν ἕλκεσθαι κρίσει,</td><td></td><td></td><td></td><td></td></tr>\n",
              "<tr><td>54</td><td>25</td><td>οὐράνιον, γήϊνον, ἀκραιφνῆ γοναῖς,</td><td></td><td></td><td></td><td></td></tr>\n",
              "<tr><td>55</td><td>26</td><td>ἰδεῖν τ’ ἔφριττον τόνδε καθυβρισμένον,</td><td></td><td></td><td></td><td></td></tr>\n",
              "<tr><td>56</td><td>27</td><td>ἄτερ δαλῶν φέρουσα, φεῦ, δεινὴν φλόγα,</td><td></td><td></td><td></td><td></td></tr>\n",
              "<tr><td>57</td><td>28</td><td>ἣ σφόδρα μαιμάσσει με καὶ δονεῖ κέαρ</td><td></td><td></td><td></td><td></td></tr>\n",
              "<tr><td>58</td><td>29</td><td>καὶ καρδίαν δίεισιν ὡς ῥόπτρον μέγα,</td><td></td><td></td><td></td><td></td></tr>\n",
              "<tr><td>59</td><td>30</td><td>ὡς νητρεκῶς ἤυσε Συμεὼν γέρων,</td><td></td><td></td><td></td><td></td></tr>\n",
              "<tr><td>60</td><td>31</td><td>τηλεσκόποις ὄμμασι πάντως προβλέπων.</td><td></td><td></td><td></td><td></td></tr>\n",
              "<tr><td>61</td><td>32</td><td>Ἠ που μεγέστη γίνεται σωτηρία,</td><td></td><td></td><td></td><td></td></tr>\n",
              "<tr><td>62</td><td>33</td><td> <span class=\"match\">ὅταν γυνὴ πρὸς ἄνδρα μὴ διχοστατῇ,</span> </td><td> <span class=\"match\">ὅταν γυνὴ πρὸς ἄνδρα μὴ διχοστατῆι.</span> </td><td>15</td><td>Medea</td><td>12</td></tr>\n",
              "<tr><td>63</td><td>34</td><td>τὰ πάντα συμφέρουσα τῷδ’, ὥσπερ θέμις,</td><td></td><td></td><td></td><td></td></tr>\n",
              "<tr><td>64</td><td>35</td><td>μηδὲ πρὸς ἄλλου πάρφασίν τινα κλύῃ,</td><td></td><td></td><td></td><td></td></tr>\n",
              "<tr><td>65</td><td>36</td><td>ἀλλ’ ἐστι συμφρονοῦσα γνησίῳ πόσει.</td><td></td><td></td><td></td><td></td></tr>\n",
              "<tr><td>66</td><td>37</td><td> <span class=\"match\">Νῦν δ’ ἐχθρὰ πάντα, καὶ νοσεῖ τὰ</span> καίρια,</td><td> <span class=\"match\">νῦν δ’ ἐχθρὰ πάντα καὶ νοσεῖ τὰ</span> φίλτατα.</td><td>16</td><td>Medea</td><td>14</td></tr>\n",
              "<tr><td>67</td><td>38</td><td>αὐτῆς προδούσης ἄνδρα καὶ κράτους κλέος.</td><td></td><td></td><td></td><td></td></tr>\n",
              "<tr><td>68</td><td>39</td><td>Φιλεῖ γὰρ ὕβρις ἡ πάλαι τίκτειν νέαν·</td><td></td><td></td><td></td><td></td></tr>\n",
              "<tr><td>69</td><td>40</td><td>ἐκ δακρύων δάκρυα καταλείβεται,</td><td></td><td></td><td></td><td></td></tr>\n",
              "<tr><td>70</td><td>41</td><td>ὧν οὔτε μέτρον οὔτ’ ἀριθμός ἐστί τις·</td><td></td><td></td><td></td><td></td></tr>\n",
              "<tr><td>71</td><td>42</td><td>κακῷ κακὸν γὰρ εἰς ἅμιλλαν ἔρχεται.</td><td></td><td></td><td></td><td></td></tr>\n",
              "<tr><td>72</td><td>43</td><td>Ὅθεν πότνια φύσις ἠτιμωμένη</td><td></td><td></td><td></td><td></td></tr>\n",
              "<tr><td>73</td><td>44</td><td>στένει κλάουσα συμφορὰς πεφυρμένας</td><td></td><td></td><td></td><td></td></tr>\n",
              "<tr><td>74</td><td>45</td><td>διαδοχάς τε τῶν ἀφερτάτων πόνων,</td><td></td><td></td><td></td><td></td></tr>\n",
              "<tr><td>75</td><td>46</td><td> <span class=\"match\">τὸν πάντα συντήκουσα δακρύοις χρόνον,</span> </td><td> <span class=\"match\">τὸν πάντα συντήκουσα δακρύοις χρόνον</span> </td><td>25</td><td>Medea</td><td>10</td></tr>\n",
              "<tr><td>76</td><td>47</td><td> <span class=\"match\">ἐπεὶ πρὸς ἐχθροῖς ᾔσθετ’ ἠδικημένη</span> </td><td> <span class=\"match\">ἐπεὶ πρὸς ἀνδρὸς ἤισθετ’ ἠδικημένη,</span> </td><td>26</td><td>Medea</td><td>7</td></tr>\n",
              "<tr><td>77</td><td>48</td><td>καὶ μητρὸς αὐτῆς πρωτοπήμονος βλάβῃ</td><td></td><td></td><td></td><td></td></tr>\n",
              "<tr><td>78</td><td>49</td><td>πατρός θ’ ὑποκλίναντος οὖας μητέρι,</td><td></td><td></td><td></td><td></td></tr>\n",
              "<tr><td>79</td><td>50</td><td>ὧν πάντες ἐσμὲν οἱ κατὰ χθόν’ ἔκγονοι.</td><td></td><td></td><td></td><td></td></tr>\n",
              "<tr><td>80</td><td>51</td><td>βοᾷ <span class=\"match\">μὲν ὅρκους, ἀνακαλεῖ δεξιὰς,</span> </td><td>βοᾶι <span class=\"match\">μὲν ὅρκους, ἀνακαλεῖ δὲ δεξιᾶς</span> </td><td>21</td><td>Medea</td><td>7</td></tr>\n",
              "<tr><td>81</td><td>52</td><td> <span class=\"match\">πίστιν μεγίστην, καὶ Θεὸν μαρτύρεται·</span> </td><td> <span class=\"match\">πίστιν μεγίστην, καὶ θεοὺς μαρτύρεται</span> </td><td>22</td><td>Medea</td><td>7</td></tr>\n",
              "<tr><td>82</td><td>53</td><td>ἔγνω γὰρ <span class=\"match\">ἡ τάλαινα συμφορῶν ὕπο,</span> </td><td>ἔγνωκε δ’ <span class=\"match\">ἡ τάλαινα συμφορᾶς ὕπο</span> </td><td>34</td><td>Medea</td><td>5</td></tr>\n",
              "<tr><td>83</td><td>54</td><td>οἱον πατρῴαν μὴ λιπεῖν ἐσθλὸν χθόνα·</td><td></td><td></td><td></td><td></td></tr>\n",
              "<tr><td>84</td><td>55</td><td> <span class=\"match\">στυγεῖ δὲ κόσμον οὐδ’ ὁρῶσ’ εὐφραίνεται.</span> </td><td> <span class=\"match\">στυγεῖ δὲ παῖδας οὐδ’ ὁρῶσ’ εὐφραίνεται.</span> </td><td>36</td><td>Medea</td><td>9</td></tr>\n",
              "<tr><td>85</td><td>56</td><td>Εἰς τοῦτο γὰρ νῦν ἐκβέβηκ’ ἀλγηδόνος,</td><td></td><td></td><td></td><td></td></tr>\n",
              "<tr><td>86</td><td>57</td><td>ὥσθ’ ἵμερός μ’ ὑπῆλθε γῇ τε καὶ πόλῳ</td><td></td><td></td><td></td><td></td></tr>\n",
              "<tr><td>87</td><td>58</td><td>λέξαι μολοῦσαν δεῦρο φύσεως βλάβας.</td><td></td><td></td><td></td><td></td></tr>\n",
              "<tr><td>88</td><td>59</td><td>Οὔπω γὰρ <span class=\"match\">ἡ τάλαινα</span> παύεται γόων,</td><td>ἔγνωκε δ’ <span class=\"match\">ἡ τάλαινα</span> συμφορᾶς ὕπο</td><td>34</td><td>Medea</td><td>4</td></tr>\n",
              "<tr><td>89</td><td>60</td><td>τίκτουσα μὴ τίκτουσα, φεύγουσ’ αὖ τόκους.</td><td></td><td></td><td></td><td></td></tr>\n",
              "<tr><td>90</td><td>61</td><td>Δύστην’· ἐμαυτὴν γὰρ λέγω, λέγουσα σὲ,</td><td></td><td></td><td></td><td></td></tr>\n",
              "<tr><td>91</td><td>62</td><td>τίκτουσαν οὐ τίκτουσαν, ὡς ὑπὲρ λόγον.</td><td></td><td></td><td></td><td></td></tr>\n",
              "<tr><td>92</td><td>63</td><td>τόκον γὰρ ἔγνων ἄτοκον, τί γὰρ φράσω;</td><td></td><td></td><td></td><td></td></tr>\n",
              "<tr><td>93</td><td>64</td><td>πόνους φυγοῦσα καὶ φθορὰν νῦν καὶ πάλαι.</td><td></td><td></td><td></td><td></td></tr>\n",
              "<tr><td>94</td><td>65</td><td>Οὐκ οἶδα τέρψιν οὐδ’ ἐπίψογον φάτιν</td><td></td><td></td><td></td><td></td></tr>\n",
              "<tr><td>95</td><td>66</td><td>τινὸς <span class=\"match\">πρὸς ἀνδρὸς</span> μᾶλλον ἢ χαλκοῦ βαφάς·</td><td>ἐπεὶ <span class=\"match\">πρὸς ἀνδρὸς</span> ἤισθετ’ ἠδικημένη,</td><td>26</td><td>Medea</td><td>4</td></tr>\n",
              "<tr><td>96</td><td>67</td><td> <span class=\"match\">οὐ γὰρ</span> κορείης ἅμμα διέφθειρέ τις.</td><td>Πελίαι μετῆλθον. <span class=\"match\">οὐ γὰρ</span> ἂν δέσποιν’ ἐμὴ</td><td>6</td><td>Medea</td><td>4</td></tr>\n",
              "<tr><td>97</td><td>68</td><td>Καὶ παῖδα πῶς ἔτικτον; ὦ θάμβος μέγα·</td><td></td><td></td><td></td><td></td></tr>\n",
              "<tr><td>98</td><td>69</td><td>ὑβρισμένον δὲ τανῦν πῶς οἴσω βλέπειν;</td><td></td><td></td><td></td><td></td></tr>\n",
              "<tr><td>99</td><td>70</td><td>πόνους φυγοῦσα πῶς ὀδυνῶμαι κέαρ;</td><td></td><td></td><td></td><td></td></tr>\n",
              "</table>\n",
              "</body>\n",
              "</html>\n"
            ],
            "text/plain": [
              "<IPython.core.display.HTML object>"
            ]
          },
          "metadata": {
            "tags": []
          },
          "execution_count": 23
        }
      ]
    },
    {
      "cell_type": "markdown",
      "metadata": {
        "id": "E4T8ry2wzcFD",
        "colab_type": "text"
      },
      "source": [
        "# Incorporating morphological information\n",
        "- load morphological data base from GitHub\n",
        "- Map all words to their lemmatized form\n",
        "- Find alignments using the lemmas"
      ]
    },
    {
      "cell_type": "code",
      "metadata": {
        "id": "KHD4qV61z1lP",
        "colab_type": "code",
        "outputId": "a454d794-cfd4-496f-d9ab-1b79c78020f0",
        "colab": {
          "base_uri": "https://localhost:8080/",
          "height": 972
        }
      },
      "source": [
        "# download files if not present\n",
        "!([ ! -f MorpheusGreek1-319492.xml ]) && wget https://raw.githubusercontent.com/gcelano/MorpheusGreekUnicode/master/MorpheusGreek1-319492.xml\n",
        "!([ ! -f MorpheusGreek319493-638984.xml ]) && wget https://raw.githubusercontent.com/gcelano/MorpheusGreekUnicode/master/MorpheusGreek319493-638984.xml\n",
        "!([ ! -f MorpheusGreek638985-958476.xml ]) && wget https://raw.githubusercontent.com/gcelano/MorpheusGreekUnicode/master/MorpheusGreek638985-958476.xml\n",
        "morph_xml_fnames = ['MorpheusGreek1-319492.xml',\n",
        "                    'MorpheusGreek319493-638984.xml',\n",
        "                    'MorpheusGreek638985-958476.xml']\n",
        "\n",
        "# load data base\n",
        "morph_dict, max_id = load_morphology(morph_xml_fnames, False)\n",
        "print('{} lemmas loaded'.format(max_id))\n",
        "m = max_id\n",
        "max_id = add_lemma_ids(lines_chr_pat, morph_dict, max_id, False)\n",
        "print('{} lemmas added by Christus Patiens'.format(max_id - m))\n",
        "m = max_id\n",
        "max_id = add_lemma_ids(lines_medea, morph_dict, max_id, False)\n",
        "print('{} lemmas added by Medea'.format(max_id - m))\n",
        "print('{} total lemmas'.format(max_id))\n",
        "\n"
      ],
      "execution_count": 0,
      "outputs": [
        {
          "output_type": "stream",
          "text": [
            "36488 lemmas loaded\n",
            "υφεδρευειν\n",
            "παντατολμον\n",
            "ερνους\n",
            "θεωσεως\n",
            "εξωκιστο\n",
            "πανολβιου\n",
            "κατακριθεισα\n",
            "δυσκοιτιας\n",
            "μογοστοκουσ\n",
            "εμπαρειμενη\n",
            "ιδρωτ\n",
            "στονοις\n",
            "εξοχους\n",
            "αλθανειν\n",
            "αγαθοτητι\n",
            "βροτωθηναι\n",
            "τλησαι\n",
            "δαλων\n",
            "μαιμασσει\n",
            "νητρεκως\n",
            "συμεων\n",
            "τηλεσκοποις\n",
            "προβλεπων\n",
            "μεγεστη\n",
            "παρφασιν\n",
            "συμφρονουσα\n",
            "ητιμωμενη\n",
            "κλαουσα\n",
            "αφερτατων\n",
            "πρωτοπημονος\n",
            "υποκλιναντος\n",
            "ορωσ\n",
            "φευγουσ\n",
            "κορειης\n",
            "34 lemmas added by Christus Patiens\n",
            "πελιαι\n",
            "μηδεια\n",
            "επλευσ\n",
            "ιωλκιας\n",
            "εκπλαγεισ\n",
            "ιασονος\n",
            "πελιαδας\n",
            "ξυμφερουσ\n",
            "ιασονι\n",
            "αισυμναι\n",
            "υφεισ\n",
            "επαιρουσ\n",
            "προδουσ\n",
            "πασχουσ\n",
            "εσβασ\n",
            "εστρωται\n",
            "αισεται\n",
            "17 lemmas added by Medea\n",
            "36539 total lemmas\n"
          ],
          "name": "stdout"
        }
      ]
    },
    {
      "cell_type": "code",
      "metadata": {
        "id": "mVrmhVGl4Cl1",
        "colab_type": "code",
        "colab": {}
      },
      "source": [
        ""
      ],
      "execution_count": 0,
      "outputs": []
    },
    {
      "cell_type": "markdown",
      "metadata": {
        "id": "zk1dfuHtD6oT",
        "colab_type": "text"
      },
      "source": [
        "# 3) Advanced exercises and extensions\n",
        "\n",
        "Now that you got the basic ideas and a feeling for how the algorithm behaves and how parameters affect the outputs, here are some suggestions how to further improve the software.\n",
        "## Exercise 3.1: Word count statistics\n",
        "Modify the alignment scoring by introducing a weighted matching score scheme, where frequent (but potentially uninteresting) words get lower match scores and rare, (but potentially interesting words) get higher match scores.\n",
        "\n",
        "## Exercise 3.2: \n",
        "\n"
      ]
    },
    {
      "cell_type": "code",
      "metadata": {
        "id": "yBc1YMZYFv6E",
        "colab_type": "code",
        "colab": {}
      },
      "source": [
        ""
      ],
      "execution_count": 0,
      "outputs": []
    }
  ]
}