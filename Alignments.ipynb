{
  "nbformat": 4,
  "nbformat_minor": 0,
  "metadata": {
    "colab": {
      "name": "Untitled0.ipynb",
      "version": "0.3.2",
      "provenance": [],
      "include_colab_link": true
    },
    "kernelspec": {
      "name": "python3",
      "display_name": "Python 3"
    }
  },
  "cells": [
    {
      "cell_type": "markdown",
      "metadata": {
        "id": "view-in-github",
        "colab_type": "text"
      },
      "source": [
        "<a href=\"https://colab.research.google.com/github/nicoschmidt/DigitalCentones/blob/master/Alignments.ipynb\" target=\"_parent\"><img src=\"https://colab.research.google.com/assets/colab-badge.svg\" alt=\"Open In Colab\"/></a>"
      ]
    },
    {
      "cell_type": "code",
      "metadata": {
        "id": "7iBwbQVXSNh_",
        "colab_type": "code",
        "outputId": "edd0632e-e44c-46b1-81c6-15c99dd40f1c",
        "colab": {
          "base_uri": "https://localhost:8080/",
          "height": 125
        }
      },
      "source": [
        "!rm -r DigitalCentones\n",
        "!git clone https://github.com/nicoschmidt/DigitalCentones"
      ],
      "execution_count": 14,
      "outputs": [
        {
          "output_type": "stream",
          "text": [
            "Cloning into 'DigitalCentones'...\n",
            "remote: Enumerating objects: 22, done.\u001b[K\n",
            "remote: Counting objects:   4% (1/22)   \u001b[K\rremote: Counting objects:   9% (2/22)   \u001b[K\rremote: Counting objects:  13% (3/22)   \u001b[K\rremote: Counting objects:  18% (4/22)   \u001b[K\rremote: Counting objects:  22% (5/22)   \u001b[K\rremote: Counting objects:  27% (6/22)   \u001b[K\rremote: Counting objects:  31% (7/22)   \u001b[K\rremote: Counting objects:  36% (8/22)   \u001b[K\rremote: Counting objects:  40% (9/22)   \u001b[K\rremote: Counting objects:  45% (10/22)   \u001b[K\rremote: Counting objects:  50% (11/22)   \u001b[K\rremote: Counting objects:  54% (12/22)   \u001b[K\rremote: Counting objects:  59% (13/22)   \u001b[K\rremote: Counting objects:  63% (14/22)   \u001b[K\rremote: Counting objects:  68% (15/22)   \u001b[K\rremote: Counting objects:  72% (16/22)   \u001b[K\rremote: Counting objects:  77% (17/22)   \u001b[K\rremote: Counting objects:  81% (18/22)   \u001b[K\rremote: Counting objects:  86% (19/22)   \u001b[K\rremote: Counting objects:  90% (20/22)   \u001b[K\rremote: Counting objects:  95% (21/22)   \u001b[K\rremote: Counting objects: 100% (22/22)   \u001b[K\rremote: Counting objects: 100% (22/22), done.\u001b[K\n",
            "remote: Compressing objects:   5% (1/17)   \u001b[K\rremote: Compressing objects:  11% (2/17)   \u001b[K\rremote: Compressing objects:  17% (3/17)   \u001b[K\rremote: Compressing objects:  23% (4/17)   \u001b[K\rremote: Compressing objects:  29% (5/17)   \u001b[K\rremote: Compressing objects:  35% (6/17)   \u001b[K\rremote: Compressing objects:  41% (7/17)   \u001b[K\rremote: Compressing objects:  47% (8/17)   \u001b[K\rremote: Compressing objects:  52% (9/17)   \u001b[K\rremote: Compressing objects:  58% (10/17)   \u001b[K\rremote: Compressing objects:  64% (11/17)   \u001b[K\rremote: Compressing objects:  70% (12/17)   \u001b[K\rremote: Compressing objects:  76% (13/17)   \u001b[K\rremote: Compressing objects:  82% (14/17)   \u001b[K\rremote: Compressing objects:  88% (15/17)   \u001b[K\rremote: Compressing objects:  94% (16/17)   \u001b[K\rremote: Compressing objects: 100% (17/17)   \u001b[K\rremote: Compressing objects: 100% (17/17), done.\u001b[K\n",
            "remote: Total 22 (delta 9), reused 9 (delta 3), pack-reused 0\u001b[K\n",
            "Unpacking objects:   4% (1/22)   \rUnpacking objects:   9% (2/22)   \rUnpacking objects:  13% (3/22)   \rUnpacking objects:  18% (4/22)   \rUnpacking objects:  22% (5/22)   \rUnpacking objects:  27% (6/22)   \rUnpacking objects:  31% (7/22)   \rUnpacking objects:  36% (8/22)   \rUnpacking objects:  40% (9/22)   \rUnpacking objects:  45% (10/22)   \rUnpacking objects:  50% (11/22)   \rUnpacking objects:  54% (12/22)   \rUnpacking objects:  59% (13/22)   \rUnpacking objects:  63% (14/22)   \rUnpacking objects:  68% (15/22)   \rUnpacking objects:  72% (16/22)   \rUnpacking objects:  77% (17/22)   \rUnpacking objects:  81% (18/22)   \rUnpacking objects:  86% (19/22)   \rUnpacking objects:  90% (20/22)   \rUnpacking objects:  95% (21/22)   \rUnpacking objects: 100% (22/22)   \rUnpacking objects: 100% (22/22), done.\n"
          ],
          "name": "stdout"
        }
      ]
    },
    {
      "cell_type": "code",
      "metadata": {
        "id": "WKFjBTima1x_",
        "colab_type": "code",
        "colab": {}
      },
      "source": [
        "from DigitalCentones.smith_waterman import SmithWaterman\n",
        "from DigitalCentones.alignment import *\n"
      ],
      "execution_count": 0,
      "outputs": []
    },
    {
      "cell_type": "code",
      "metadata": {
        "id": "7-wOdXpncUzd",
        "colab_type": "code",
        "colab": {}
      },
      "source": [
        "sw = SmithWaterman()"
      ],
      "execution_count": 0,
      "outputs": []
    },
    {
      "cell_type": "code",
      "metadata": {
        "id": "Lttbk7VmcVdd",
        "colab_type": "code",
        "colab": {
          "base_uri": "https://localhost:8080/",
          "height": 35
        },
        "outputId": "fcf1f0c9-f613-4eb3-f5d4-7a9bac71a084"
      },
      "source": [
        "sw"
      ],
      "execution_count": 17,
      "outputs": [
        {
          "output_type": "execute_result",
          "data": {
            "text/plain": [
              "<DigitalCentones.smith_waterman.SmithWaterman at 0x7f6dcb121d68>"
            ]
          },
          "metadata": {
            "tags": []
          },
          "execution_count": 17
        }
      ]
    },
    {
      "cell_type": "code",
      "metadata": {
        "id": "nTkmbyo5h16e",
        "colab_type": "code",
        "colab": {}
      },
      "source": [
        ""
      ],
      "execution_count": 0,
      "outputs": []
    }
  ]
}