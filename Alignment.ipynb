{
  "nbformat": 4,
  "nbformat_minor": 0,
  "metadata": {
    "colab": {
      "name": "Alignment.ipynb",
      "version": "0.3.2",
      "provenance": [],
      "include_colab_link": true
    },
    "kernelspec": {
      "name": "python3",
      "display_name": "Python 3"
    }
  },
  "cells": [
    {
      "cell_type": "markdown",
      "metadata": {
        "id": "view-in-github",
        "colab_type": "text"
      },
      "source": [
        "<a href=\"https://colab.research.google.com/github/nicoschmidt/DigitalCentones/blob/master/Alignment.ipynb\" target=\"_parent\"><img src=\"https://colab.research.google.com/assets/colab-badge.svg\" alt=\"Open In Colab\"/></a>"
      ]
    },
    {
      "cell_type": "code",
      "metadata": {
        "id": "lF-HX9fVi7R0",
        "colab_type": "code",
        "colab": {}
      },
      "source": [
        "!rm -r DigitalCentones\n",
        "!git clone https://github.com/nicoschmidt/DigitalCentones"
      ],
      "execution_count": 0,
      "outputs": []
    },
    {
      "cell_type": "code",
      "metadata": {
        "id": "b0Ys4nQcjAH2",
        "colab_type": "code",
        "colab": {}
      },
      "source": [
        "from DigitalCentones.smith_waterman import SmithWaterman\n",
        "from DigitalCentones.alignment import *"
      ],
      "execution_count": 0,
      "outputs": []
    },
    {
      "cell_type": "code",
      "metadata": {
        "id": "YoQ5ybRHjCHU",
        "colab_type": "code",
        "colab": {}
      },
      "source": [
        "sw = SmithWaterman()\n",
        "sw"
      ],
      "execution_count": 0,
      "outputs": []
    }
  ]
}